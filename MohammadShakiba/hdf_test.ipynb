{
 "cells": [
  {
   "cell_type": "code",
   "execution_count": 3,
   "id": "42fd35ea",
   "metadata": {},
   "outputs": [
    {
     "name": "stdout",
     "output_type": "stream",
     "text": [
      "my_file.txt\n"
     ]
    }
   ],
   "source": [
    "f = open('my_file.txt','a')\n",
    "# for appending\n",
    "#f = open('my_file.txt','a')\n",
    "print(f.name)\n",
    "f.writelines('test\\n')\n",
    "for i in range(10):\n",
    "    f.writelines(F'pH of experiment {i} is {7-0.1*i}\\n')\n",
    "f.close()"
   ]
  },
  {
   "cell_type": "code",
   "execution_count": 4,
   "id": "856ada41",
   "metadata": {},
   "outputs": [],
   "source": [
    "f = open('my_file.txt','r')\n",
    "A = f.readlines()\n",
    "f.close()"
   ]
  },
  {
   "cell_type": "code",
   "execution_count": 12,
   "id": "9c35327e",
   "metadata": {},
   "outputs": [
    {
     "name": "stdout",
     "output_type": "stream",
     "text": [
      "pH of experiment 0 is 7.0\n",
      "\n",
      "['pH', 'of', 'experiment', '0', 'is', '7.0']\n",
      "<class 'str'>\n",
      "<class 'float'>\n"
     ]
    }
   ],
   "source": [
    "print(A[1])\n",
    "print(A[1].split())\n",
    "x = A[1].split()[5]\n",
    "print(type(x))\n",
    "y = float(x)\n",
    "print(type(y))"
   ]
  },
  {
   "cell_type": "code",
   "execution_count": 14,
   "id": "97b9a57b",
   "metadata": {},
   "outputs": [],
   "source": [
    "import os\n",
    "import sys"
   ]
  },
  {
   "cell_type": "code",
   "execution_count": 16,
   "id": "43bacc6d",
   "metadata": {},
   "outputs": [
    {
     "data": {
      "text/plain": [
       "0"
      ]
     },
     "execution_count": 16,
     "metadata": {},
     "output_type": "execute_result"
    }
   ],
   "source": [
    "os.system('mkdir my_new_directory')"
   ]
  },
  {
   "cell_type": "code",
   "execution_count": 22,
   "id": "3570df80",
   "metadata": {},
   "outputs": [
    {
     "name": "stdout",
     "output_type": "stream",
     "text": [
      "/projects/academic/alexeyak/mohammad/spring2023/che512/gitstuff/CHE512-Spring2023/MohammadShakiba/my_new_directory\n",
      "/projects/academic/alexeyak/mohammad/spring2023/che512/gitstuff/CHE512-Spring2023/MohammadShakiba/my_new_directory\n"
     ]
    }
   ],
   "source": [
    "try:\n",
    "    #os.chdir('my_new_directory')\n",
    "    os.system('pwd')\n",
    "    print(os.getcwd())\n",
    "except:\n",
    "    pass"
   ]
  },
  {
   "cell_type": "code",
   "execution_count": 27,
   "id": "557372d1",
   "metadata": {},
   "outputs": [],
   "source": [
    "import h5py\n",
    "import numpy as np"
   ]
  },
  {
   "cell_type": "code",
   "execution_count": 40,
   "id": "c4a71214",
   "metadata": {},
   "outputs": [],
   "source": [
    "f = h5py.File('my_hdf5.hdf','w')\n",
    "m = f.create_group('measurements')\n",
    "m.create_dataset('x', data=np.array([1,2,3,4,5]))\n",
    "m.create_dataset('y', data=np.array([1,2,3,4,5])*10)\n",
    "f.close()"
   ]
  },
  {
   "cell_type": "code",
   "execution_count": 50,
   "id": "6bd75c88",
   "metadata": {},
   "outputs": [
    {
     "name": "stdout",
     "output_type": "stream",
     "text": [
      "<KeysViewHDF5 ['measurements']>\n",
      "2\n",
      "[1 2 3 4 5]\n",
      "[10 20 30 40 50]\n",
      "<KeysViewHDF5 ['x', 'y']>\n"
     ]
    }
   ],
   "source": [
    "f = h5py.File('my_hdf5.hdf','r')\n",
    "keys = f.keys()\n",
    "print(keys)\n",
    "x = f['measurements/x']\n",
    "y = f['measurements/y']\n",
    "print(x[1])\n",
    "print(np.array(x))\n",
    "print(np.array(y))\n",
    "print(f['measurements'].keys())\n",
    "f.close()"
   ]
  },
  {
   "cell_type": "code",
   "execution_count": null,
   "id": "e961bed7",
   "metadata": {},
   "outputs": [],
   "source": []
  }
 ],
 "metadata": {
  "kernelspec": {
   "display_name": "Python 3 (ipykernel)",
   "language": "python",
   "name": "python3"
  },
  "language_info": {
   "codemirror_mode": {
    "name": "ipython",
    "version": 3
   },
   "file_extension": ".py",
   "mimetype": "text/x-python",
   "name": "python",
   "nbconvert_exporter": "python",
   "pygments_lexer": "ipython3",
   "version": "3.7.15"
  }
 },
 "nbformat": 4,
 "nbformat_minor": 5
}
