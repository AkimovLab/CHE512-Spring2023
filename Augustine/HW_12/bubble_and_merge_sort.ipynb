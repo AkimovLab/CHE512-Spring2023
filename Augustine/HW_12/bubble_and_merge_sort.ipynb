{
 "cells": [
  {
   "cell_type": "code",
   "execution_count": 1,
   "id": "47028b49",
   "metadata": {},
   "outputs": [],
   "source": [
    "import numpy as np"
   ]
  },
  {
   "cell_type": "code",
   "execution_count": 2,
   "id": "bcebb2e1",
   "metadata": {},
   "outputs": [],
   "source": [
    "def merge_sort(list):\n",
    "    \n",
    "    \"\"\"\n",
    "    Args:\n",
    "        unsorted_list: (list of floats or ints): the list of the numbers to be sorted\n",
    "        \n",
    "    Returns:\n",
    "        sorted_list : the sorted list\n",
    "    \"\"\"\n",
    "    \n",
    "    if len(list) > 1:\n",
    "        # Divinding the array into two by finding the index of the middle element\n",
    "        mid = len(list) // 2\n",
    "        left_half = list[:mid]\n",
    "        right_half = list[mid:]\n",
    "\n",
    "        merge_sort(right_half)\n",
    "        merge_sort(left_half)\n",
    "       \n",
    "\n",
    "        # Merge the two halves back together in sorted order\n",
    "        i = j = k = 0\n",
    "        while i < len(left_half) and j < len(right_half):\n",
    "            if left_half[i] < right_half[j]:\n",
    "                list[k] = left_half[i]\n",
    "                i = i + 1\n",
    "            else:\n",
    "                list[k] = right_half[j]\n",
    "                j = j + 1\n",
    "            k = k + 1\n",
    "\n",
    "        # Add any remaining elements from the left or right half\n",
    "        while i < len(left_half):\n",
    "            list[k] = left_half[i]\n",
    "            i = i + 1\n",
    "            k = i + 1\n",
    "\n",
    "        while j < len(right_half):\n",
    "            list[k] = right_half[j]\n",
    "            j = j + 1\n",
    "            k = k + 1\n",
    "\n",
    "    return list"
   ]
  },
  {
   "cell_type": "code",
   "execution_count": 3,
   "id": "35c2641d",
   "metadata": {},
   "outputs": [
    {
     "name": "stdout",
     "output_type": "stream",
     "text": [
      "[1, 2, 5, 5, 6, 9]\n"
     ]
    }
   ],
   "source": [
    "# Define the list to be sorted\n",
    "my_list = [5, 2, 9, 1, 5, 6]\n",
    "\n",
    "# Call the merge_sort function and store the result in a new variable\n",
    "sorted_list = merge_sort(my_list)\n",
    "\n",
    "# Print the sorted list\n",
    "print(sorted_list)"
   ]
  },
  {
   "cell_type": "code",
   "execution_count": 4,
   "id": "3c256620",
   "metadata": {},
   "outputs": [],
   "source": [
    "np.random.seed(123)  #This is to ensure that numbers do not change after every run\n",
    "n_15 = np.random.randint(0, 1000, 15)\n",
    "n_30 = np.random.randint(0, 1000, 30)\n",
    "n_60 = np.random.randint(0, 1000, 60)\n",
    "n_120 = np.random.randint(0, 1000, 120)\n",
    "n_240 = np.random.randint(0, 1000, 240)\n",
    "n_480 = np.random.randint(0, 1000, 480)"
   ]
  },
  {
   "cell_type": "code",
   "execution_count": 5,
   "id": "6673d5d2",
   "metadata": {},
   "outputs": [
    {
     "name": "stdout",
     "output_type": "stream",
     "text": [
      "17.4 µs ± 482 ns per loop (mean ± std. dev. of 7 runs, 100000 loops each)\n"
     ]
    }
   ],
   "source": [
    "%%timeit\n",
    "merge_sort(n_15)"
   ]
  },
  {
   "cell_type": "code",
   "execution_count": 6,
   "id": "1f285422",
   "metadata": {},
   "outputs": [
    {
     "name": "stdout",
     "output_type": "stream",
     "text": [
      "40.6 µs ± 240 ns per loop (mean ± std. dev. of 7 runs, 10000 loops each)\n"
     ]
    }
   ],
   "source": [
    "%%timeit\n",
    "merge_sort(n_30)"
   ]
  },
  {
   "cell_type": "code",
   "execution_count": 7,
   "id": "403d7cd8",
   "metadata": {},
   "outputs": [
    {
     "name": "stdout",
     "output_type": "stream",
     "text": [
      "96.2 µs ± 1.34 µs per loop (mean ± std. dev. of 7 runs, 10000 loops each)\n"
     ]
    }
   ],
   "source": [
    "%%timeit\n",
    "merge_sort(n_60)"
   ]
  },
  {
   "cell_type": "code",
   "execution_count": 8,
   "id": "c3d50562",
   "metadata": {},
   "outputs": [
    {
     "name": "stdout",
     "output_type": "stream",
     "text": [
      "215 µs ± 6.21 µs per loop (mean ± std. dev. of 7 runs, 1000 loops each)\n"
     ]
    }
   ],
   "source": [
    "%%timeit\n",
    "merge_sort(n_120)"
   ]
  },
  {
   "cell_type": "code",
   "execution_count": 9,
   "id": "5fb6b998",
   "metadata": {},
   "outputs": [
    {
     "name": "stdout",
     "output_type": "stream",
     "text": [
      "487 µs ± 7.62 µs per loop (mean ± std. dev. of 7 runs, 1000 loops each)\n"
     ]
    }
   ],
   "source": [
    "%%timeit\n",
    "merge_sort(n_240)"
   ]
  },
  {
   "cell_type": "code",
   "execution_count": 10,
   "id": "e7910015",
   "metadata": {},
   "outputs": [
    {
     "name": "stdout",
     "output_type": "stream",
     "text": [
      "1.01 ms ± 3.99 µs per loop (mean ± std. dev. of 7 runs, 1000 loops each)\n"
     ]
    }
   ],
   "source": [
    "%%timeit\n",
    "merge_sort(n_480)"
   ]
  },
  {
   "cell_type": "code",
   "execution_count": 12,
   "id": "894ccc56",
   "metadata": {},
   "outputs": [],
   "source": [
    "length_of_array = [15, 30, 60, 120, 240, 480]\n",
    "run_time = [17.4, 40.6, 96.2, 215, 487, 1010]"
   ]
  },
  {
   "cell_type": "code",
   "execution_count": 13,
   "id": "d9f218ab",
   "metadata": {},
   "outputs": [],
   "source": [
    "import matplotlib.pyplot as plt"
   ]
  },
  {
   "cell_type": "code",
   "execution_count": 14,
   "id": "a6a59182",
   "metadata": {},
   "outputs": [
    {
     "data": {
      "text/plain": [
       "Text(0, 0.5, 'Run time')"
      ]
     },
     "execution_count": 14,
     "metadata": {},
     "output_type": "execute_result"
    },
    {
     "data": {
      "image/png": "[encoded data removed]",
      "text/plain": [
       "<Figure size 640x480 with 1 Axes>"
      ]
     },
     "metadata": {},
     "output_type": "display_data"
    }
   ],
   "source": [
    "plt.plot(length_of_array, run_time)\n",
    "plt.title(\"length of array vs run time using merge sort\")\n",
    "plt.xlabel(\"Length of array\")\n",
    "plt.ylabel(\"Run time\")\n"
   ]
  },
  {
   "cell_type": "code",
   "execution_count": 15,
   "id": "1781f1ac",
   "metadata": {},
   "outputs": [],
   "source": [
    "#The result above for the merge sort is similar to the plot of NlogN"
   ]
  },
  {
   "cell_type": "code",
   "execution_count": 16,
   "id": "3d637538",
   "metadata": {},
   "outputs": [],
   "source": [
    "# We are now defining and plotting the bubble sort algorithm\n",
    "def bubble_sort(list):\n",
    "    \"\"\"\n",
    "    Args:\n",
    "        unsorted_list: (list of floats or ints): the list of the numbers to be sorted\n",
    "        \n",
    "    Returns:\n",
    "        sorted_list : the sorted list\n",
    "    \"\"\"\n",
    "    n = len(list)\n",
    "\n",
    "    # literating through all array elements\n",
    "    for i in range(n):\n",
    "        for j in range(n-i-1):          \n",
    "            if list[j] > list[j+1]:\n",
    "                list[j], list[j+1] = list[j+1], list[j]\n",
    "\n",
    "    return list"
   ]
  },
  {
   "cell_type": "code",
   "execution_count": 17,
   "id": "804d2ccd",
   "metadata": {},
   "outputs": [
    {
     "name": "stdout",
     "output_type": "stream",
     "text": [
      "[  2   5   9  23  23  34  43 100]\n"
     ]
    }
   ],
   "source": [
    "# unsorteGd_list = np.array[34, 2, 23, 5, 9, 43, 100, 23]\n",
    "list_unsorted = np.array([34, 2, 23, 5, 9, 43, 100, 23])\n",
    "sorted_list = bubble_sort(list_unsorted)\n",
    "print(list_unsorted)"
   ]
  },
  {
   "cell_type": "code",
   "execution_count": 18,
   "id": "958dfba6",
   "metadata": {},
   "outputs": [],
   "source": [
    "np.random.seed(123)  #This is to ensure that numbers do not change after every run\n",
    "n_5 = np.random.randint(0, 1000, 5)\n",
    "n_10 = np.random.randint(0, 1000, 10)\n",
    "n_15 = np.random.randint(0, 1000, 15)\n",
    "n_20 = np.random.randint(0, 1000, 20)\n",
    "n_25 = np.random.randint(0, 1000, 25)\n",
    "n_30 = np.random.randint(0, 1000, 30)"
   ]
  },
  {
   "cell_type": "code",
   "execution_count": 19,
   "id": "5a6c9234",
   "metadata": {},
   "outputs": [
    {
     "data": {
      "text/plain": [
       "array([322, 365, 382, 510, 988])"
      ]
     },
     "execution_count": 19,
     "metadata": {},
     "output_type": "execute_result"
    }
   ],
   "source": [
    "bubble_sort(n_5)"
   ]
  },
  {
   "cell_type": "code",
   "execution_count": 20,
   "id": "4eeebd01",
   "metadata": {},
   "outputs": [
    {
     "name": "stdout",
     "output_type": "stream",
     "text": [
      "1.72 µs ± 36.5 ns per loop (mean ± std. dev. of 7 runs, 1000000 loops each)\n"
     ]
    }
   ],
   "source": [
    "%%timeit\n",
    "bubble_sort(n_5)"
   ]
  },
  {
   "cell_type": "code",
   "execution_count": 21,
   "id": "7345e95d",
   "metadata": {},
   "outputs": [
    {
     "name": "stdout",
     "output_type": "stream",
     "text": [
      "5.64 µs ± 40.1 ns per loop (mean ± std. dev. of 7 runs, 100000 loops each)\n"
     ]
    }
   ],
   "source": [
    "%%timeit\n",
    "bubble_sort(n_10)"
   ]
  },
  {
   "cell_type": "code",
   "execution_count": 22,
   "id": "9821ddc1",
   "metadata": {},
   "outputs": [
    {
     "name": "stdout",
     "output_type": "stream",
     "text": [
      "12.2 µs ± 211 ns per loop (mean ± std. dev. of 7 runs, 100000 loops each)\n"
     ]
    }
   ],
   "source": [
    "%%timeit\n",
    "bubble_sort(n_15)"
   ]
  },
  {
   "cell_type": "code",
   "execution_count": 23,
   "id": "e0029978",
   "metadata": {},
   "outputs": [
    {
     "name": "stdout",
     "output_type": "stream",
     "text": [
      "20.6 µs ± 145 ns per loop (mean ± std. dev. of 7 runs, 10000 loops each)\n"
     ]
    }
   ],
   "source": [
    "%%timeit\n",
    "bubble_sort(n_20)"
   ]
  },
  {
   "cell_type": "code",
   "execution_count": 24,
   "id": "b1ceb8fa",
   "metadata": {},
   "outputs": [
    {
     "name": "stdout",
     "output_type": "stream",
     "text": [
      "32.3 µs ± 690 ns per loop (mean ± std. dev. of 7 runs, 10000 loops each)\n"
     ]
    }
   ],
   "source": [
    "%%timeit\n",
    "bubble_sort(n_25)"
   ]
  },
  {
   "cell_type": "code",
   "execution_count": 25,
   "id": "9827a36a",
   "metadata": {},
   "outputs": [
    {
     "name": "stdout",
     "output_type": "stream",
     "text": [
      "45.1 µs ± 121 ns per loop (mean ± std. dev. of 7 runs, 10000 loops each)\n"
     ]
    }
   ],
   "source": [
    "%%timeit\n",
    "bubble_sort(n_30)"
   ]
  },
  {
   "cell_type": "code",
   "execution_count": 28,
   "id": "f9d572fd",
   "metadata": {},
   "outputs": [],
   "source": [
    "length_of_array = [5, 10, 15, 20, 25, 30]\n",
    "run_time = [1.72, 5.64, 12.2, 20.6, 32.3, 45.1]  #The run time might differ a little after every run"
   ]
  },
  {
   "cell_type": "code",
   "execution_count": 29,
   "id": "ff39820c",
   "metadata": {},
   "outputs": [
    {
     "data": {
      "text/plain": [
       "Text(0, 0.5, 'Run time')"
      ]
     },
     "execution_count": 29,
     "metadata": {},
     "output_type": "execute_result"
    },
    {
     "data": {
      "image/png": "[encoded data removed]",
      "text/plain": [
       "<Figure size 640x480 with 1 Axes>"
      ]
     },
     "metadata": {},
     "output_type": "display_data"
    }
   ],
   "source": [
    "plt.plot(length_of_array, run_time)\n",
    "plt.title(\"length of array vs run time using bubble sort\")\n",
    "plt.xlabel(\"Length of array\")\n",
    "plt.ylabel(\"Run time\")"
   ]
  },
  {
   "cell_type": "code",
   "execution_count": null,
   "id": "f8cce20c",
   "metadata": {},
   "outputs": [],
   "source": [
    "#THis graph is similar to (~) a plot of N^2"
   ]
  }
 ],
 "metadata": {
  "kernelspec": {
   "display_name": "Python 3 (ipykernel)",
   "language": "python",
   "name": "python3"
  },
  "language_info": {
   "codemirror_mode": {
    "name": "ipython",
    "version": 3
   },
   "file_extension": ".py",
   "mimetype": "text/x-python",
   "name": "python",
   "nbconvert_exporter": "python",
   "pygments_lexer": "ipython3",
   "version": "3.9.13"
  }
 },
 "nbformat": 4,
 "nbformat_minor": 5
}
