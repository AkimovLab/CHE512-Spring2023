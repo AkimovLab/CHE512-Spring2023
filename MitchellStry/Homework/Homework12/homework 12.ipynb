{
 "cells": [
  {
   "cell_type": "code",
   "execution_count": null,
   "id": "cb8c8e31",
   "metadata": {},
   "outputs": [],
   "source": [
    "#Using %%timeit caused an error so I couldn't get the scaling or times. I included the errors in this. Hope that helps."
   ]
  },
  {
   "cell_type": "code",
   "execution_count": 3,
   "id": "b74c7dfe",
   "metadata": {},
   "outputs": [],
   "source": [
    "def bubsort(x):\n",
    "    \"\"\"\n",
    "    Args:\n",
    "        x should be a list of float or intergers to be sorted\n",
    "    Returns:\n",
    "        list: A sorted list\n",
    "    Hope you don't mind the lack of timeit data. Using them always popped up an error, even when copypasted into the code.\n",
    "    \"\"\"\n",
    "    res=list(x)\n",
    "    n=len(res)\n",
    "    f=0\n",
    "    check=False\n",
    "    for i in range (n):\n",
    "        check=False\n",
    "        for j in range (n-i-1):\n",
    "            if res[j] > res[j + 1]:\n",
    "                res[j], res[j + 1] = res[j + 1], res[j]\n",
    "                check = True\n",
    "            f=f+1\n",
    "            \n",
    "        if not check:\n",
    "            break\n",
    "    return res"
   ]
  },
  {
   "cell_type": "code",
   "execution_count": 17,
   "id": "f57d31c6",
   "metadata": {},
   "outputs": [],
   "source": [
    "a=[6,3,0,5,7,2]\n",
    "b=[6,3,0,5,7,2,4,3]\n",
    "c=[2,5,4,3,1,7,8,10,11]\n",
    "d=[1,6,4,8]\n",
    "e=[10,12,15,3,8,7,6,9,14,18]\n",
    "\n",
    "g=[22,23,88,50,47,64,8]\n",
    "h=[10,12,15,3,8,7,6,9,14,18,10,12,15,3,8,7,6,9,14,18]\n",
    "\n",
    "j=[29, 29, 28, 27, 26, 26, 25, 25, 24, 24, 23, 22, 22, 21, 20, 20, 19, 18, 18, 15, 14, 12, 10, 9, 9, 8, 7, 5, 4, 1]\n",
    "k=[40, 39, 39, 39, 38, 38, 37, 37, 36, 34, 32, 31, 31, 30, 25, 23, 22, 22, 21, 20, 15, 15, 15, 15, 14, 14, 14, 11, 10, 7, 6, 6, 6, 5, 4, 3, 3, 2, 2, 1]\n",
    "m=[49, 49, 47, 47, 47, 46, 46, 44, 43, 43, 42, 42, 42, 42, 41, 38, 36, 35, 34, 33, 32, 31, 30, 29, 28, 27, 27, 24, 23, 22, 22, 19, 15, 14, 11, 10, 10, 9, 9, 8, 7, 6, 6, 6, 4, 3, 1, 1, 1, 1]\n",
    "o=[78, 77, 75, 74, 74, 74, 74, 73, 71, 71, 69, 69, 69, 69, 68, 68, 68, 67, 67, 67, 66, 66, 65, 63, 62, 61, 61, 60, 59, 58, 58, 57, 56, 56, 54, 54, 53, 52, 50, 50, 49, 47, 47, 46, 44, 43, 40, 38, 37, 37, 37, 36, 34, 34, 33, 32, 31, 30, 29, 26, 26, 24, 22, 20, 19, 18, 15, 14, 13, 13, 11, 10, 9, 8, 7, 5, 4, 3, 2, 2]"
   ]
  },
  {
   "cell_type": "code",
   "execution_count": 7,
   "id": "0eacdb77",
   "metadata": {},
   "outputs": [
    {
     "name": "stdout",
     "output_type": "stream",
     "text": [
      "2.62 µs ± 2.57 ns per loop (mean ± std. dev. of 7 runs, 100,000 loops each)\n"
     ]
    }
   ],
   "source": [
    "%%timeit\n",
    "bubsort(a)"
   ]
  },
  {
   "cell_type": "code",
   "execution_count": 8,
   "id": "05e37867",
   "metadata": {},
   "outputs": [],
   "source": [
    "\n"
   ]
  },
  {
   "cell_type": "code",
   "execution_count": 9,
   "id": "d363317f",
   "metadata": {},
   "outputs": [
    {
     "name": "stdout",
     "output_type": "stream",
     "text": [
      "3.86 µs ± 6.94 ns per loop (mean ± std. dev. of 7 runs, 100,000 loops each)\n"
     ]
    }
   ],
   "source": [
    "%%timeit\n",
    "bubsort(b)"
   ]
  },
  {
   "cell_type": "code",
   "execution_count": 13,
   "id": "3aee55ca",
   "metadata": {},
   "outputs": [],
   "source": []
  },
  {
   "cell_type": "code",
   "execution_count": 14,
   "id": "8cb82f1b",
   "metadata": {},
   "outputs": [
    {
     "name": "stdout",
     "output_type": "stream",
     "text": [
      "4.05 µs ± 7.77 ns per loop (mean ± std. dev. of 7 runs, 100,000 loops each)\n"
     ]
    }
   ],
   "source": [
    "%%timeit\n",
    "bubsort(c)"
   ]
  },
  {
   "cell_type": "code",
   "execution_count": 17,
   "id": "11873655",
   "metadata": {},
   "outputs": [],
   "source": []
  },
  {
   "cell_type": "code",
   "execution_count": 18,
   "id": "15961259",
   "metadata": {},
   "outputs": [
    {
     "name": "stdout",
     "output_type": "stream",
     "text": [
      "952 ns ± 1.03 ns per loop (mean ± std. dev. of 7 runs, 1,000,000 loops each)\n"
     ]
    }
   ],
   "source": [
    "%%timeit\n",
    "bubsort(d)"
   ]
  },
  {
   "cell_type": "code",
   "execution_count": 21,
   "id": "9d18f147",
   "metadata": {},
   "outputs": [],
   "source": []
  },
  {
   "cell_type": "code",
   "execution_count": 22,
   "id": "aad27a92",
   "metadata": {},
   "outputs": [
    {
     "name": "stdout",
     "output_type": "stream",
     "text": [
      "5.91 µs ± 10.2 ns per loop (mean ± std. dev. of 7 runs, 100,000 loops each)\n"
     ]
    }
   ],
   "source": [
    "%%timeit\n",
    "bubsort(e)"
   ]
  },
  {
   "cell_type": "code",
   "execution_count": 24,
   "id": "2d6d804e",
   "metadata": {},
   "outputs": [],
   "source": [
    "f=[3,2]"
   ]
  },
  {
   "cell_type": "code",
   "execution_count": 25,
   "id": "b06614bf",
   "metadata": {},
   "outputs": [
    {
     "name": "stdout",
     "output_type": "stream",
     "text": [
      "588 ns ± 3.01 ns per loop (mean ± std. dev. of 7 runs, 1,000,000 loops each)\n"
     ]
    }
   ],
   "source": [
    "%%timeit\n",
    "bubsort(f)"
   ]
  },
  {
   "cell_type": "code",
   "execution_count": 5,
   "id": "081025b0",
   "metadata": {},
   "outputs": [
    {
     "name": "stdout",
     "output_type": "stream",
     "text": [
      "20.6 µs ± 219 ns per loop (mean ± std. dev. of 7 runs, 10,000 loops each)\n"
     ]
    }
   ],
   "source": [
    "%%timeit\n",
    "bubsort(h)"
   ]
  },
  {
   "cell_type": "code",
   "execution_count": 28,
   "id": "9754c186",
   "metadata": {},
   "outputs": [
    {
     "name": "stdout",
     "output_type": "stream",
     "text": [
      "3.84 µs ± 25.7 ns per loop (mean ± std. dev. of 7 runs, 100,000 loops each)\n"
     ]
    }
   ],
   "source": [
    "%%timeit\n",
    "bubsort(g)"
   ]
  },
  {
   "cell_type": "code",
   "execution_count": 9,
   "id": "a024d9e1",
   "metadata": {},
   "outputs": [
    {
     "name": "stdout",
     "output_type": "stream",
     "text": [
      "66.8 µs ± 529 ns per loop (mean ± std. dev. of 7 runs, 10,000 loops each)\n"
     ]
    }
   ],
   "source": [
    "%%timeit\n",
    "bubsort(j)"
   ]
  },
  {
   "cell_type": "code",
   "execution_count": 12,
   "id": "7ce8caad",
   "metadata": {},
   "outputs": [
    {
     "name": "stdout",
     "output_type": "stream",
     "text": [
      "120 µs ± 1.77 µs per loop (mean ± std. dev. of 7 runs, 10,000 loops each)\n"
     ]
    }
   ],
   "source": [
    "%%timeit\n",
    "bubsort(k)"
   ]
  },
  {
   "cell_type": "code",
   "execution_count": 15,
   "id": "a9a9c06e",
   "metadata": {},
   "outputs": [
    {
     "name": "stdout",
     "output_type": "stream",
     "text": [
      "184 µs ± 1.17 µs per loop (mean ± std. dev. of 7 runs, 10,000 loops each)\n"
     ]
    }
   ],
   "source": [
    "%%timeit\n",
    "bubsort(m)"
   ]
  },
  {
   "cell_type": "code",
   "execution_count": 18,
   "id": "75dc24d1",
   "metadata": {},
   "outputs": [
    {
     "name": "stdout",
     "output_type": "stream",
     "text": [
      "474 µs ± 4.71 µs per loop (mean ± std. dev. of 7 runs, 1,000 loops each)\n"
     ]
    }
   ],
   "source": [
    "%%timeit\n",
    "bubsort(o)"
   ]
  },
  {
   "cell_type": "code",
   "execution_count": 4,
   "id": "94879c86",
   "metadata": {},
   "outputs": [],
   "source": [
    "def mergesort(lis):\n",
    "    #Hope you don't mind the lack of timeit commands. Using them always popped up an error, even when copypasted into the code.\n",
    "    if len(lis)>1:\n",
    "        mid=len(lis)//2\n",
    "        left=lis[:mid]\n",
    "        right=lis[mid:]\n",
    "        mergesort(left)\n",
    "        mergesort(right)\n",
    "        a=0\n",
    "        b=0\n",
    "        c=0\n",
    "        d=0\n",
    "        while a<len(left) and b<len(right):\n",
    "            if left[a] < right[b] or left[a] == right[b]:\n",
    "                lis[c]=left[a]\n",
    "                a=a+1\n",
    "            else:\n",
    "                lis[c]=right[b]\n",
    "                b=b+1\n",
    "            c=c+1\n",
    "            d=d+1\n",
    "            \n",
    "        \n",
    "        while a<len(left):\n",
    "            lis[c]=left[a]\n",
    "            a=a+1\n",
    "            d=d+1"
   ]
  },
  {
   "cell_type": "code",
   "execution_count": 11,
   "id": "4e963046",
   "metadata": {},
   "outputs": [
    {
     "name": "stdout",
     "output_type": "stream",
     "text": [
      "3.4 µs ± 11.7 ns per loop (mean ± std. dev. of 7 runs, 100,000 loops each)\n"
     ]
    }
   ],
   "source": [
    "%%timeit\n",
    "mergesort(a)"
   ]
  },
  {
   "cell_type": "code",
   "execution_count": 12,
   "id": "79dbbc36",
   "metadata": {},
   "outputs": [
    {
     "name": "stdout",
     "output_type": "stream",
     "text": [
      "5.15 µs ± 10.3 ns per loop (mean ± std. dev. of 7 runs, 100,000 loops each)\n"
     ]
    }
   ],
   "source": [
    "%%timeit\n",
    "mergesort(b)"
   ]
  },
  {
   "cell_type": "code",
   "execution_count": 15,
   "id": "75cf6e1d",
   "metadata": {},
   "outputs": [
    {
     "name": "stdout",
     "output_type": "stream",
     "text": [
      "5.33 µs ± 12.9 ns per loop (mean ± std. dev. of 7 runs, 100,000 loops each)\n"
     ]
    }
   ],
   "source": [
    "%%timeit\n",
    "mergesort(c)"
   ]
  },
  {
   "cell_type": "code",
   "execution_count": 19,
   "id": "94ef3ca0",
   "metadata": {},
   "outputs": [
    {
     "name": "stdout",
     "output_type": "stream",
     "text": [
      "1.93 µs ± 24.9 ns per loop (mean ± std. dev. of 7 runs, 1,000,000 loops each)\n"
     ]
    }
   ],
   "source": [
    "%%timeit\n",
    "mergesort(d)"
   ]
  },
  {
   "cell_type": "code",
   "execution_count": 23,
   "id": "c729dd5b",
   "metadata": {},
   "outputs": [
    {
     "name": "stdout",
     "output_type": "stream",
     "text": [
      "6.6 µs ± 167 ns per loop (mean ± std. dev. of 7 runs, 100,000 loops each)\n"
     ]
    }
   ],
   "source": [
    "%%timeit\n",
    "mergesort(e)"
   ]
  },
  {
   "cell_type": "code",
   "execution_count": 26,
   "id": "c2bae7d1",
   "metadata": {},
   "outputs": [
    {
     "name": "stdout",
     "output_type": "stream",
     "text": [
      "623 ns ± 5.58 ns per loop (mean ± std. dev. of 7 runs, 1,000,000 loops each)\n"
     ]
    }
   ],
   "source": [
    "%%timeit\n",
    "mergesort(f)"
   ]
  },
  {
   "cell_type": "code",
   "execution_count": 29,
   "id": "176ca27c",
   "metadata": {},
   "outputs": [
    {
     "name": "stdout",
     "output_type": "stream",
     "text": [
      "4.4 µs ± 28.3 ns per loop (mean ± std. dev. of 7 runs, 100,000 loops each)\n"
     ]
    }
   ],
   "source": [
    "%%timeit\n",
    "mergesort(g)"
   ]
  },
  {
   "cell_type": "code",
   "execution_count": 7,
   "id": "6c9c67c6",
   "metadata": {},
   "outputs": [
    {
     "name": "stdout",
     "output_type": "stream",
     "text": [
      "15.3 µs ± 185 ns per loop (mean ± std. dev. of 7 runs, 100,000 loops each)\n"
     ]
    }
   ],
   "source": [
    "%%timeit\n",
    "mergesort(h)"
   ]
  },
  {
   "cell_type": "code",
   "execution_count": 10,
   "id": "4c3740dd",
   "metadata": {},
   "outputs": [
    {
     "name": "stdout",
     "output_type": "stream",
     "text": [
      "27 µs ± 207 ns per loop (mean ± std. dev. of 7 runs, 10,000 loops each)\n"
     ]
    }
   ],
   "source": [
    "%%timeit\n",
    "mergesort(j)"
   ]
  },
  {
   "cell_type": "code",
   "execution_count": 13,
   "id": "87474409",
   "metadata": {},
   "outputs": [
    {
     "name": "stdout",
     "output_type": "stream",
     "text": [
      "38.3 µs ± 641 ns per loop (mean ± std. dev. of 7 runs, 10,000 loops each)\n"
     ]
    }
   ],
   "source": [
    "%%timeit\n",
    "mergesort(k)"
   ]
  },
  {
   "cell_type": "code",
   "execution_count": 16,
   "id": "4dbfc61b",
   "metadata": {},
   "outputs": [
    {
     "name": "stdout",
     "output_type": "stream",
     "text": [
      "53 µs ± 672 ns per loop (mean ± std. dev. of 7 runs, 10,000 loops each)\n"
     ]
    }
   ],
   "source": [
    "%%timeit\n",
    "mergesort(m)"
   ]
  },
  {
   "cell_type": "code",
   "execution_count": 19,
   "id": "1a780876",
   "metadata": {},
   "outputs": [
    {
     "name": "stdout",
     "output_type": "stream",
     "text": [
      "88.2 µs ± 916 ns per loop (mean ± std. dev. of 7 runs, 10,000 loops each)\n"
     ]
    }
   ],
   "source": [
    "%%timeit\n",
    "mergesort(o)"
   ]
  },
  {
   "cell_type": "code",
   "execution_count": null,
   "id": "d668e805",
   "metadata": {},
   "outputs": [],
   "source": []
  }
 ],
 "metadata": {
  "kernelspec": {
   "display_name": "Python 3 (ipykernel)",
   "language": "python",
   "name": "python3"
  },
  "language_info": {
   "codemirror_mode": {
    "name": "ipython",
    "version": 3
   },
   "file_extension": ".py",
   "mimetype": "text/x-python",
   "name": "python",
   "nbconvert_exporter": "python",
   "pygments_lexer": "ipython3",
   "version": "3.10.9"
  }
 },
 "nbformat": 4,
 "nbformat_minor": 5
}
