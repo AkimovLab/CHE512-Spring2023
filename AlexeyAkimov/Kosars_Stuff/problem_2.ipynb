{
 "cells": [
  {
   "cell_type": "code",
   "execution_count": 2,
   "id": "b9ec37c7",
   "metadata": {},
   "outputs": [
    {
     "name": "stdout",
     "output_type": "stream",
     "text": [
      "Enter Number of Elements: 4\n",
      "1\n",
      "-1\n",
      "1\n",
      "-1\n",
      "0.0 1.0\n"
     ]
    }
   ],
   "source": [
    "import math\n",
    "arbitry_lst=[]\n",
    "n =int(input(\"Enter Number of Elements: \"))\n",
    "for i in range(n):\n",
    "    numbers = float(input())\n",
    "    arbitry_lst.append(numbers)\n",
    "    \n",
    "def mean(a):\n",
    "    s=0\n",
    "    for i in a:\n",
    "        s=s+i\n",
    "        b=len(a)\n",
    "        \n",
    "    m = s/b\n",
    "    h=0\n",
    "    for i in a:\n",
    "        h= h+ (i-m)*(i-m)\n",
    "        \n",
    "    Sigma= math.sqrt(h/b)\n",
    "    print (m, Sigma)\n",
    "mean(arbitry_lst)"
   ]
  },
  {
   "cell_type": "code",
   "execution_count": null,
   "id": "8324fc29",
   "metadata": {},
   "outputs": [],
   "source": []
  }
 ],
 "metadata": {
  "kernelspec": {
   "display_name": "Python 3 (ipykernel)",
   "language": "python",
   "name": "python3"
  },
  "language_info": {
   "codemirror_mode": {
    "name": "ipython",
    "version": 3
   },
   "file_extension": ".py",
   "mimetype": "text/x-python",
   "name": "python",
   "nbconvert_exporter": "python",
   "pygments_lexer": "ipython3",
   "version": "3.7.12"
  }
 },
 "nbformat": 4,
 "nbformat_minor": 5
}
