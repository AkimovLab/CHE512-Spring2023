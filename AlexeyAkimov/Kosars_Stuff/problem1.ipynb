{
 "cells": [
  {
   "cell_type": "code",
   "execution_count": 5,
   "id": "d09d3844",
   "metadata": {},
   "outputs": [
    {
     "name": "stdout",
     "output_type": "stream",
     "text": [
      "[1.0, 1.7320508075688772, 2.23606797749979, 2.6457513110645907, 3.0, 3.3166247903554, 3.605551275463989, 3.872983346207417, 4.123105625617661, 4.358898943540674]\n"
     ]
    }
   ],
   "source": [
    "import math\n",
    "\n",
    "a=[]\n",
    "j=1\n",
    "for i in range(10):\n",
    "    #print(j+i)\n",
    "    a.append(j+i)\n",
    "    j=j+1\n",
    "    \n",
    "#print(a)\n",
    "\n",
    "b=[]\n",
    "for g in a:\n",
    "    b.append(g*g)\n",
    "\n",
    "#print(b)\n",
    "\n",
    "c=[]\n",
    "for k in a:\n",
    "    c.append(math.sqrt(k))\n",
    "print(c)\n",
    "\n",
    "f= open(\"problem1.txt\" , \"w\")\n",
    "for i in range(10):\n",
    "    f.writelines(F\"{a[i]} {b[i]}   {c[i]} \\n\")\n",
    "f.close()"
   ]
  }
 ],
 "metadata": {
  "kernelspec": {
   "display_name": "Python 3",
   "language": "python",
   "name": "python3"
  },
  "language_info": {
   "codemirror_mode": {
    "name": "ipython",
    "version": 3
   },
   "file_extension": ".py",
   "mimetype": "text/x-python",
   "name": "python",
   "nbconvert_exporter": "python",
   "pygments_lexer": "ipython3",
   "version": "3.8.8"
  }
 },
 "nbformat": 4,
 "nbformat_minor": 5
}
