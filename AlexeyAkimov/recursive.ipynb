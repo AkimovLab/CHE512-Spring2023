{
 "cells": [
  {
   "cell_type": "code",
   "execution_count": 8,
   "id": "6286d31f",
   "metadata": {},
   "outputs": [],
   "source": [
    "import sys\n",
    "\n",
    "def factorial(n):\n",
    "    if(n<0):\n",
    "        print(\"Cann't define a factorial of a negative number\\nExiting...\\n\")\n",
    "        sys.exit(0)                \n",
    "    elif n==0 or n==1:\n",
    "        return 1\n",
    "    else:\n",
    "        return factorial(n-1) * n\n"
   ]
  },
  {
   "cell_type": "code",
   "execution_count": 14,
   "id": "0a162e21",
   "metadata": {},
   "outputs": [
    {
     "data": {
      "text/plain": [
       "479001600"
      ]
     },
     "execution_count": 14,
     "metadata": {},
     "output_type": "execute_result"
    }
   ],
   "source": [
    "factorial(12)"
   ]
  },
  {
   "cell_type": "code",
   "execution_count": 26,
   "id": "adf076e7",
   "metadata": {},
   "outputs": [
    {
     "name": "stdout",
     "output_type": "stream",
     "text": [
      "[0, 1, 2, 3]\n",
      "[0, 1, 2, 3, 4]\n",
      "[0, 1, 2, 3, 4, 4]\n",
      "[0, 1]\n",
      "[1, 2]\n",
      "[1, 2, 3, 4, 4]\n",
      "[1, 2, 3, 4, 3, 4]\n",
      "[1, 2, 1, 2, 1, 2, 1, 2, 1, 2]\n",
      "4\n"
     ]
    }
   ],
   "source": [
    "Lst = [0, 1, 2, 3] \n",
    "\n",
    "print(Lst)\n",
    "Lst.append(4)\n",
    "print(Lst)\n",
    "Lst.append(4)\n",
    "print(Lst)\n",
    "\n",
    "print(Lst[0:2])\n",
    "print(Lst[1:3])\n",
    "print(Lst[1:])\n",
    "\n",
    "print([1,2 ] + [3,4] + [3, 4])\n",
    "\n",
    "print([1,2]*5)\n",
    "\n",
    "\n",
    "print(Lst.index(4))"
   ]
  },
  {
   "cell_type": "code",
   "execution_count": 33,
   "id": "d9ad4a47",
   "metadata": {},
   "outputs": [
    {
     "name": "stdout",
     "output_type": "stream",
     "text": [
      "{'name': 'Alexey'}\n",
      "{'name': 'Augustin', 'age': 100}\n",
      "{'age': 1000}\n"
     ]
    }
   ],
   "source": [
    "di1 = {}\n",
    "di1[\"name\"] = \"Alexey\"\n",
    "print(di1)\n",
    "\n",
    "di1.update({\"name\":\"Augustin\", \"age\":100})\n",
    "print(di1)\n",
    "\n",
    "di2 = {\"age\": 1000}\n",
    "print(di2)\n",
    "\n"
   ]
  },
  {
   "cell_type": "code",
   "execution_count": null,
   "id": "ec657af6",
   "metadata": {},
   "outputs": [],
   "source": []
  }
 ],
 "metadata": {
  "kernelspec": {
   "display_name": "Python 3 (ipykernel)",
   "language": "python",
   "name": "python3"
  },
  "language_info": {
   "codemirror_mode": {
    "name": "ipython",
    "version": 3
   },
   "file_extension": ".py",
   "mimetype": "text/x-python",
   "name": "python",
   "nbconvert_exporter": "python",
   "pygments_lexer": "ipython3",
   "version": "3.7.12"
  }
 },
 "nbformat": 4,
 "nbformat_minor": 5
}
