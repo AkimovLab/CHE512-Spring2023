{
 "cells": [
  {
   "cell_type": "code",
   "execution_count": 23,
   "id": "d47e84c9",
   "metadata": {},
   "outputs": [],
   "source": [
    "def buble_sort(x):\n",
    "    \"\"\"\n",
    "    Args:\n",
    "        x (list of floats or ints): the list of the numbers to be sorted\n",
    "        \n",
    "    Returns:\n",
    "        list : the sorted list\n",
    "    \"\"\"\n",
    "    \n",
    "    res = list(x)\n",
    "    print(res)\n",
    "    \n",
    "    n = len(res)\n",
    "    print(n)\n",
    "    \n",
    "    iteration = 1\n",
    "    while res[0] > res[1]:\n",
    "        print(F\"iteration = {iteration}\")        \n",
    "        iteration = iteration + 1\n",
    "        i = 0\n",
    "        while i < n-1:\n",
    "            if res[i] > res[i+1]:\n",
    "                tmp = res[i+1]\n",
    "                res[i+1] = res[i]\n",
    "                res[i] = tmp        \n",
    "                print(res) \n",
    "            i = i + 1\n",
    "    \n",
    "    return res"
   ]
  },
  {
   "cell_type": "code",
   "execution_count": 29,
   "id": "5e632548",
   "metadata": {},
   "outputs": [],
   "source": [
    "def min(x):\n",
    "    \n",
    "    n = len(x)\n",
    "    xmin = x[0]\n",
    "    min_indx = 0\n",
    "    \n",
    "    for i in range(n):\n",
    "        if x[i] < xmin:\n",
    "            xmin = x[i]\n",
    "            min_indx = i\n",
    "    return xmin, min_indx\n",
    "        \n",
    "\n",
    "def bruteforce_sort(X):\n",
    "    \"\"\"\n",
    "    Args:\n",
    "        x (list of floats or ints): the list of the numbers to be sorted\n",
    "        \n",
    "    Returns:\n",
    "        list : the sorted list\n",
    "    \"\"\"\n",
    "    \n",
    "    x = list(X)\n",
    "    res = []\n",
    "    \n",
    "    while len(x)>0:\n",
    "        xmin, minindx = min(x)\n",
    "        x.pop(minindx)\n",
    "        res.append(xmin)    \n",
    "        \n",
    "    return res"
   ]
  },
  {
   "cell_type": "code",
   "execution_count": 31,
   "id": "4057cb42",
   "metadata": {},
   "outputs": [
    {
     "data": {
      "text/plain": [
       "[0, 3, 5, 6]"
      ]
     },
     "execution_count": 31,
     "metadata": {},
     "output_type": "execute_result"
    }
   ],
   "source": [
    "a = [6, 3, 0, 5]\n",
    "#buble_sort(a)\n",
    "min(a)\n",
    "bruteforce_sort(a)"
   ]
  },
  {
   "cell_type": "code",
   "execution_count": 33,
   "id": "ff970c53",
   "metadata": {},
   "outputs": [
    {
     "data": {
      "text/plain": [
       "[1, 3, 6, 7, 8, 9]"
      ]
     },
     "execution_count": 33,
     "metadata": {},
     "output_type": "execute_result"
    }
   ],
   "source": [
    "b = [1, 6, 3, 8, 7, 9]\n",
    "#buble_sort(b)\n",
    "bruteforce_sort(b)\n",
    "#min(b)"
   ]
  },
  {
   "cell_type": "code",
   "execution_count": 22,
   "id": "a766c1d1",
   "metadata": {},
   "outputs": [],
   "source": [
    "import numpy as np"
   ]
  },
  {
   "cell_type": "code",
   "execution_count": 49,
   "id": "f5fe215f",
   "metadata": {},
   "outputs": [],
   "source": [
    "a5 = np.random.randint(0, 1000, 5)\n",
    "a10 = np.random.randint(0, 1000, 10)\n",
    "a20 = np.random.randint(0, 1000, 20)\n",
    "a40 = np.random.randint(0, 1000, 40)\n",
    "a80 = np.random.randint(0, 1000, 80)\n",
    "a160 = np.random.randint(0, 1000, 160)\n",
    "a320 = np.random.randint(0, 1000, 320)"
   ]
  },
  {
   "cell_type": "code",
   "execution_count": 35,
   "id": "83ec5042",
   "metadata": {},
   "outputs": [
    {
     "name": "stdout",
     "output_type": "stream",
     "text": [
      "[428 434 637 251 172 449 848 751 281 294]\n"
     ]
    }
   ],
   "source": [
    "print(a10)"
   ]
  },
  {
   "cell_type": "code",
   "execution_count": 39,
   "id": "6624815f",
   "metadata": {},
   "outputs": [
    {
     "name": "stdout",
     "output_type": "stream",
     "text": [
      "4.64 µs ± 234 ns per loop (mean ± std. dev. of 7 runs, 100000 loops each)\n"
     ]
    }
   ],
   "source": [
    "%%timeit\n",
    "bruteforce_sort(a5)"
   ]
  },
  {
   "cell_type": "code",
   "execution_count": 36,
   "id": "3efb3f79",
   "metadata": {},
   "outputs": [
    {
     "name": "stdout",
     "output_type": "stream",
     "text": [
      "8.62 µs ± 440 ns per loop (mean ± std. dev. of 7 runs, 100000 loops each)\n"
     ]
    }
   ],
   "source": [
    "%%timeit\n",
    "bruteforce_sort(a10)"
   ]
  },
  {
   "cell_type": "code",
   "execution_count": 40,
   "id": "43835e3c",
   "metadata": {},
   "outputs": [
    {
     "name": "stdout",
     "output_type": "stream",
     "text": [
      "21.1 µs ± 1.08 µs per loop (mean ± std. dev. of 7 runs, 10000 loops each)\n"
     ]
    }
   ],
   "source": [
    "%%timeit\n",
    "bruteforce_sort(a20)"
   ]
  },
  {
   "cell_type": "code",
   "execution_count": 41,
   "id": "36489167",
   "metadata": {},
   "outputs": [
    {
     "name": "stdout",
     "output_type": "stream",
     "text": [
      "59.8 µs ± 3.24 µs per loop (mean ± std. dev. of 7 runs, 10000 loops each)\n"
     ]
    }
   ],
   "source": [
    "%%timeit\n",
    "bruteforce_sort(a40)"
   ]
  },
  {
   "cell_type": "code",
   "execution_count": 42,
   "id": "be2cfc44",
   "metadata": {},
   "outputs": [
    {
     "name": "stdout",
     "output_type": "stream",
     "text": [
      "171 µs ± 5.92 µs per loop (mean ± std. dev. of 7 runs, 10000 loops each)\n"
     ]
    }
   ],
   "source": [
    "%%timeit\n",
    "bruteforce_sort(a80)"
   ]
  },
  {
   "cell_type": "code",
   "execution_count": 50,
   "id": "2361b271",
   "metadata": {},
   "outputs": [
    {
     "name": "stdout",
     "output_type": "stream",
     "text": [
      "685 µs ± 23.8 µs per loop (mean ± std. dev. of 7 runs, 1000 loops each)\n"
     ]
    }
   ],
   "source": [
    "%%timeit\n",
    "bruteforce_sort(a160)"
   ]
  },
  {
   "cell_type": "code",
   "execution_count": 51,
   "id": "b193fc5c",
   "metadata": {},
   "outputs": [
    {
     "name": "stdout",
     "output_type": "stream",
     "text": [
      "2.47 ms ± 143 µs per loop (mean ± std. dev. of 7 runs, 100 loops each)\n"
     ]
    }
   ],
   "source": [
    "%%timeit\n",
    "bruteforce_sort(a320)"
   ]
  },
  {
   "cell_type": "code",
   "execution_count": 52,
   "id": "21ff63c0",
   "metadata": {},
   "outputs": [],
   "source": [
    "x = [5, 10, 20, 40, 80, 160, 320]\n",
    "y = [4.64, 8.62, 21.1, 59.8, 171, 685, 2470]\n"
   ]
  },
  {
   "cell_type": "code",
   "execution_count": 53,
   "id": "624c9e3a",
   "metadata": {},
   "outputs": [],
   "source": [
    "import matplotlib.pyplot as plt"
   ]
  },
  {
   "cell_type": "code",
   "execution_count": 54,
   "id": "bd2ce6c0",
   "metadata": {},
   "outputs": [
    {
     "data": {
      "text/plain": [
       "[<matplotlib.lines.Line2D at 0x7f8cce42e3d0>]"
      ]
     },
     "execution_count": 54,
     "metadata": {},
     "output_type": "execute_result"
    },
    {
     "data": {
      "image/png": "[encoded data removed]",
      "text/plain": [
       "<Figure size 640x480 with 1 Axes>"
      ]
     },
     "metadata": {},
     "output_type": "display_data"
    }
   ],
   "source": [
    "plt.plot(x,y)"
   ]
  },
  {
   "cell_type": "markdown",
   "id": "3a07eb72",
   "metadata": {},
   "source": [
    "O($N^2$)"
   ]
  },
  {
   "cell_type": "code",
   "execution_count": null,
   "id": "0bb57696",
   "metadata": {},
   "outputs": [],
   "source": []
  }
 ],
 "metadata": {
  "kernelspec": {
   "display_name": "Python 3 (ipykernel)",
   "language": "python",
   "name": "python3"
  },
  "language_info": {
   "codemirror_mode": {
    "name": "ipython",
    "version": 3
   },
   "file_extension": ".py",
   "mimetype": "text/x-python",
   "name": "python",
   "nbconvert_exporter": "python",
   "pygments_lexer": "ipython3",
   "version": "3.7.12"
  }
 },
 "nbformat": 4,
 "nbformat_minor": 5
}
