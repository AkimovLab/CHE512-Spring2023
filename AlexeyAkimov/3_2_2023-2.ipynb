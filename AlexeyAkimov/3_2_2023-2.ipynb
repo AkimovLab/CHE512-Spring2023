{
 "cells": [
  {
   "cell_type": "code",
   "execution_count": 9,
   "id": "494c821d",
   "metadata": {},
   "outputs": [
    {
     "name": "stdout",
     "output_type": "stream",
     "text": [
      "False\n",
      "True\n"
     ]
    }
   ],
   "source": [
    "f = open(\"my_file.txt\", \"r\")\n",
    "print(f.closed)\n",
    "A = f.readlines()\n",
    "f.close()\n",
    "\n",
    "print(f.closed)"
   ]
  },
  {
   "cell_type": "code",
   "execution_count": 8,
   "id": "654e2ccc",
   "metadata": {},
   "outputs": [
    {
     "name": "stdout",
     "output_type": "stream",
     "text": [
      "pH of experiment 0 is 7.0\n",
      "\n",
      "['pH', 'of', 'experiment', '0', 'is', '7.0']\n",
      "7.0\n",
      "<class 'str'>\n",
      "7.0 <class 'float'>\n"
     ]
    }
   ],
   "source": [
    "print(A[0])\n",
    "\n",
    "print(A[0].split() )\n",
    "\n",
    "print(A[0].split()[5] )\n",
    "\n",
    "print( type(A[0].split()[5]) )\n",
    "\n",
    "pH = float(A[0].split()[5])\n",
    "\n",
    "print( pH, type(pH))"
   ]
  },
  {
   "cell_type": "code",
   "execution_count": 5,
   "id": "bc958beb",
   "metadata": {},
   "outputs": [
    {
     "name": "stdout",
     "output_type": "stream",
     "text": [
      "['1', '2', '3', '4']\n"
     ]
    }
   ],
   "source": [
    "x = \"1,2,3,4\"\n",
    "print(x.split(\",\"))"
   ]
  },
  {
   "cell_type": "code",
   "execution_count": 10,
   "id": "b1a1ce07",
   "metadata": {},
   "outputs": [],
   "source": [
    "f = open(\"new_file.txt\", \"w\")\n",
    "\n",
    "name = \"Cat\"\n",
    "age = 3\n",
    "\n",
    "f.write(F\"name = {name}, aga = {age}\")\n",
    "f.close()"
   ]
  },
  {
   "cell_type": "code",
   "execution_count": 11,
   "id": "a9b03664",
   "metadata": {},
   "outputs": [],
   "source": [
    "import os"
   ]
  },
  {
   "cell_type": "code",
   "execution_count": 12,
   "id": "591a0e26",
   "metadata": {},
   "outputs": [],
   "source": [
    "os.mkdir(\"My_new_directory\")"
   ]
  },
  {
   "cell_type": "code",
   "execution_count": 13,
   "id": "f9ef86d9",
   "metadata": {},
   "outputs": [],
   "source": [
    "import sys"
   ]
  },
  {
   "cell_type": "code",
   "execution_count": 23,
   "id": "6213bcaf",
   "metadata": {},
   "outputs": [
    {
     "name": "stdout",
     "output_type": "stream",
     "text": [
      "/mnt/d/WORK/BUFFALO/TEACHING/Teaching/UB_Classes/2023_Spring_CHE_512/git_stuff/CHE512-Spring2023/AlexeyAkimov\n"
     ]
    },
    {
     "data": {
      "text/plain": [
       "0"
      ]
     },
     "execution_count": 23,
     "metadata": {},
     "output_type": "execute_result"
    }
   ],
   "source": [
    "os.system('pwd')"
   ]
  },
  {
   "cell_type": "code",
   "execution_count": 16,
   "id": "eb5f3a46",
   "metadata": {},
   "outputs": [
    {
     "name": "stdout",
     "output_type": "stream",
     "text": [
      "/mnt/d/WORK/BUFFALO/TEACHING/Teaching/UB_Classes/2023_Spring_CHE_512/git_stuff/CHE512-Spring2023/AlexeyAkimov/My_new_directory\n"
     ]
    },
    {
     "data": {
      "text/plain": [
       "0"
      ]
     },
     "execution_count": 16,
     "metadata": {},
     "output_type": "execute_result"
    }
   ],
   "source": [
    "os.chdir(\"My_new_directory\")\n",
    "os.system(\"pwd\")"
   ]
  },
  {
   "cell_type": "code",
   "execution_count": 21,
   "id": "6d19bf19",
   "metadata": {},
   "outputs": [],
   "source": [
    "os.chdir(\"../\")"
   ]
  },
  {
   "cell_type": "code",
   "execution_count": 22,
   "id": "7f3f9d08",
   "metadata": {},
   "outputs": [
    {
     "name": "stdout",
     "output_type": "stream",
     "text": [
      "False\n"
     ]
    }
   ],
   "source": [
    "f = open(\"new_file.txt\", \"r\")\n",
    "print(f.closed)\n",
    "f.close()"
   ]
  },
  {
   "cell_type": "code",
   "execution_count": 24,
   "id": "fe2dbbc3",
   "metadata": {},
   "outputs": [
    {
     "data": {
      "text/plain": [
       "'/mnt/d/WORK/BUFFALO/TEACHING/Teaching/UB_Classes/2023_Spring_CHE_512/git_stuff/CHE512-Spring2023/AlexeyAkimov'"
      ]
     },
     "execution_count": 24,
     "metadata": {},
     "output_type": "execute_result"
    }
   ],
   "source": [
    "os.getcwd()"
   ]
  },
  {
   "cell_type": "code",
   "execution_count": null,
   "id": "0141bd9e",
   "metadata": {},
   "outputs": [],
   "source": []
  }
 ],
 "metadata": {
  "kernelspec": {
   "display_name": "Python 3 (ipykernel)",
   "language": "python",
   "name": "python3"
  },
  "language_info": {
   "codemirror_mode": {
    "name": "ipython",
    "version": 3
   },
   "file_extension": ".py",
   "mimetype": "text/x-python",
   "name": "python",
   "nbconvert_exporter": "python",
   "pygments_lexer": "ipython3",
   "version": "3.7.12"
  }
 },
 "nbformat": 4,
 "nbformat_minor": 5
}
