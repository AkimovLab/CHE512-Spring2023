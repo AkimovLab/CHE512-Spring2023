{
  "metadata": {
    "language_info": {
      "codemirror_mode": {
        "name": "python",
        "version": 3
      },
      "file_extension": ".py",
      "mimetype": "text/x-python",
      "name": "python",
      "nbconvert_exporter": "python",
      "pygments_lexer": "ipython3",
      "version": "3.8"
    },
    "kernelspec": {
      "name": "python",
      "display_name": "Python (Pyodide)",
      "language": "python"
    }
  },
  "nbformat_minor": 4,
  "nbformat": 4,
  "cells": [
    {
      "cell_type": "code",
      "source": "import cmath\ndef sqroots(A, B, C):\n    \"\"\"\n    This function looks for the roots of a quadratic equation\n    A * x^2 + B * x + C = 0\n    Returns:\n        (root1, root2)\n    \"\"\"\n    delta = cmath.sqrt(B**2-4*A*C)\n    root1 = (-B+delta)/(2*A)\n    root2 = (-B-delta)/(2*A)\n    #print(root1, root2)\n    return root1, root2\nroots = sqroots(3, 6, 9)\nprint(roots)\n    \n        ",
      "metadata": {
        "trusted": true
      },
      "execution_count": 33,
      "outputs": [
        {
          "name": "stdout",
          "text": "((-1+1.414213562373095j), (-1-1.414213562373095j))\n",
          "output_type": "stream"
        }
      ]
    },
    {
      "cell_type": "code",
      "source": "",
      "metadata": {},
      "execution_count": null,
      "outputs": []
    },
    {
      "cell_type": "code",
      "source": "",
      "metadata": {},
      "execution_count": null,
      "outputs": []
    }
  ]
}