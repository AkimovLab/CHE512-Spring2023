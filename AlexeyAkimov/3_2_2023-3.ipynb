{
 "cells": [
  {
   "cell_type": "code",
   "execution_count": 4,
   "id": "13769144",
   "metadata": {},
   "outputs": [],
   "source": [
    "import h5py\n",
    "import numpy as np"
   ]
  },
  {
   "cell_type": "code",
   "execution_count": 7,
   "id": "0132d216",
   "metadata": {},
   "outputs": [],
   "source": [
    "f = h5py.File(\"my_hdf5.hdf\", \"w\")\n",
    "f.create_dataset(\"X\", data=np.array([1.0, 2.0, 3.0, 4.0, 5.0]) )\n",
    "f.close()"
   ]
  },
  {
   "cell_type": "code",
   "execution_count": 19,
   "id": "1c2af30e",
   "metadata": {},
   "outputs": [],
   "source": [
    "f = h5py.File(\"my_hdf5.hdf\", \"r\")\n",
    "x = list(f[\"X\"][:])\n",
    "f.close()"
   ]
  },
  {
   "cell_type": "code",
   "execution_count": 20,
   "id": "78898225",
   "metadata": {},
   "outputs": [
    {
     "name": "stdout",
     "output_type": "stream",
     "text": [
      "[1.0, 2.0, 3.0, 4.0, 5.0]\n"
     ]
    }
   ],
   "source": [
    "print(x)"
   ]
  },
  {
   "cell_type": "code",
   "execution_count": 21,
   "id": "97e207cb",
   "metadata": {},
   "outputs": [],
   "source": [
    "f = h5py.File(\"my_new_hdf5.hdf\", \"w\")\n",
    "m = f.create_group(\"measurements\")\n",
    "m.create_dataset(\"X\", data=np.array([1.0, 2.0, 3.0, 4.0, 5.0]) )\n",
    "m.create_dataset(\"Y\", data=np.array([-0.1, -2.1, 13.1, 1.4, -0.5]) )\n",
    "f.close()"
   ]
  },
  {
   "cell_type": "code",
   "execution_count": 22,
   "id": "254245de",
   "metadata": {},
   "outputs": [],
   "source": [
    "f = h5py.File(\"my_new_hdf5.hdf\", \"r\")\n",
    "x = list(f[\"measurements/X\"][:])\n",
    "y = list(f[\"measurements/Y\"][:])\n",
    "f.close()"
   ]
  },
  {
   "cell_type": "code",
   "execution_count": 23,
   "id": "7c7d4d61",
   "metadata": {},
   "outputs": [
    {
     "name": "stdout",
     "output_type": "stream",
     "text": [
      "[1.0, 2.0, 3.0, 4.0, 5.0] [-0.1, -2.1, 13.1, 1.4, -0.5]\n"
     ]
    }
   ],
   "source": [
    "print(x, y)"
   ]
  },
  {
   "cell_type": "code",
   "execution_count": 24,
   "id": "23231883",
   "metadata": {},
   "outputs": [
    {
     "name": "stdout",
     "output_type": "stream",
     "text": [
      "<KeysViewHDF5 ['measurements']>\n"
     ]
    }
   ],
   "source": [
    "f = h5py.File(\"my_new_hdf5.hdf\", \"r\")\n",
    "print(f.keys() )"
   ]
  },
  {
   "cell_type": "code",
   "execution_count": 25,
   "id": "37128679",
   "metadata": {},
   "outputs": [
    {
     "name": "stdout",
     "output_type": "stream",
     "text": [
      "<KeysViewHDF5 ['X', 'Y']>\n"
     ]
    }
   ],
   "source": [
    "print(f[\"measurements\"].keys())"
   ]
  },
  {
   "cell_type": "code",
   "execution_count": 27,
   "id": "6daa0c5a",
   "metadata": {},
   "outputs": [
    {
     "name": "stdout",
     "output_type": "stream",
     "text": [
      "[1. 2. 3. 4. 5.]\n"
     ]
    }
   ],
   "source": [
    "print(f[\"measurements/X\"][:])"
   ]
  },
  {
   "cell_type": "code",
   "execution_count": null,
   "id": "1c8dddd1",
   "metadata": {},
   "outputs": [],
   "source": []
  }
 ],
 "metadata": {
  "kernelspec": {
   "display_name": "Python 3 (ipykernel)",
   "language": "python",
   "name": "python3"
  },
  "language_info": {
   "codemirror_mode": {
    "name": "ipython",
    "version": 3
   },
   "file_extension": ".py",
   "mimetype": "text/x-python",
   "name": "python",
   "nbconvert_exporter": "python",
   "pygments_lexer": "ipython3",
   "version": "3.7.12"
  }
 },
 "nbformat": 4,
 "nbformat_minor": 5
}
