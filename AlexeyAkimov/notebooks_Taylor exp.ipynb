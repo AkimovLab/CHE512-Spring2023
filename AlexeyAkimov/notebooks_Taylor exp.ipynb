{
 "cells": [
  {
   "cell_type": "code",
   "execution_count": 2,
   "metadata": {},
   "outputs": [
    {
     "name": "stdout",
     "output_type": "stream",
     "text": [
      "(20.009151785714284, 20.085536923187668)\n"
     ]
    }
   ],
   "source": [
    "import math \n",
    "\n",
    "def taylor_exp(x, n):\n",
    "    \"\"\"\n",
    "    This function should compute the Taylor series of exponential\\approx e^x = 1 + x + x^2/2! + x^3/3! + x^4/4! + ...\n",
    "    \"\"\"\n",
    "    taylor = 0.0\n",
    "    for i in range(n):\n",
    "        taylor+=x**i/math.factorial(i)\n",
    "    return taylor, math.exp(x)\n",
    "    \n",
    "print(taylor_exp(3, 9))"
   ]
  },
  {
   "cell_type": "code",
   "execution_count": null,
   "metadata": {},
   "outputs": [],
   "source": []
  }
 ],
 "metadata": {
  "kernelspec": {
   "display_name": "Python 3 (ipykernel)",
   "language": "python",
   "name": "python3"
  },
  "language_info": {
   "codemirror_mode": {
    "name": "ipython",
    "version": 3
   },
   "file_extension": ".py",
   "mimetype": "text/x-python",
   "name": "python",
   "nbconvert_exporter": "python",
   "pygments_lexer": "ipython3",
   "version": "3.7.12"
  }
 },
 "nbformat": 4,
 "nbformat_minor": 4
}
