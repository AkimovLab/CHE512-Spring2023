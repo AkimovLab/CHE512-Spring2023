{
 "cells": [
  {
   "cell_type": "code",
   "execution_count": 4,
   "id": "d0c92ac0",
   "metadata": {},
   "outputs": [
    {
     "data": {
      "text/plain": [
       "'\\nclass Hamiltonian:    \\n    E = 0.0\\n    \\n    def __init__(self, energy):\\n        self.energy = energy         \\n        Hamiltonian.E += energy \\n    \\n    def show_energy(self):\\n        print(self.energy)        \\n   \\n'"
      ]
     },
     "execution_count": 4,
     "metadata": {},
     "output_type": "execute_result"
    }
   ],
   "source": [
    "\"\"\"\n",
    "class Hamiltonian:    \n",
    "    E = 0.0\n",
    "    \n",
    "    def __init__(self, energy):\n",
    "        self.energy = energy         \n",
    "        Hamiltonian.E += energy \n",
    "    \n",
    "    def show_energy(self):\n",
    "        print(self.energy)        \n",
    "   \n",
    "\"\"\"   "
   ]
  },
  {
   "cell_type": "code",
   "execution_count": 5,
   "id": "f9de587d",
   "metadata": {},
   "outputs": [
    {
     "data": {
      "text/plain": [
       "'\\nh1 = Hamiltonian(-0.5)\\nprint(h1.E)\\n\\n#h1.show_energy()\\n#print(h1.energy )\\n#h1.energy = -1.0\\n#h1.show_energy()\\n'"
      ]
     },
     "execution_count": 5,
     "metadata": {},
     "output_type": "execute_result"
    }
   ],
   "source": [
    "\"\"\"\n",
    "h1 = Hamiltonian(-0.5)\n",
    "print(h1.E)\n",
    "\n",
    "#h1.show_energy()\n",
    "#print(h1.energy )\n",
    "#h1.energy = -1.0\n",
    "#h1.show_energy()\n",
    "\"\"\""
   ]
  },
  {
   "cell_type": "code",
   "execution_count": 6,
   "id": "aa44f0e4",
   "metadata": {},
   "outputs": [
    {
     "data": {
      "text/plain": [
       "'\\nh2 = Hamiltonian(-0.5)\\nprint(h1.E)\\nprint(h2.E)\\n'"
      ]
     },
     "execution_count": 6,
     "metadata": {},
     "output_type": "execute_result"
    }
   ],
   "source": [
    "\"\"\"\n",
    "h2 = Hamiltonian(-0.5)\n",
    "print(h1.E)\n",
    "print(h2.E)\n",
    "\"\"\""
   ]
  },
  {
   "cell_type": "code",
   "execution_count": 9,
   "id": "45686552",
   "metadata": {},
   "outputs": [
    {
     "data": {
      "text/plain": [
       "'\\nh3 = Hamiltonian(-0.5)\\n\\nprint(h3.E)\\n'"
      ]
     },
     "execution_count": 9,
     "metadata": {},
     "output_type": "execute_result"
    }
   ],
   "source": [
    "\"\"\"\n",
    "h3 = Hamiltonian(-0.5)\n",
    "\n",
    "print(h3.E)\n",
    "\"\"\""
   ]
  },
  {
   "cell_type": "code",
   "execution_count": 1,
   "id": "736fa957",
   "metadata": {},
   "outputs": [],
   "source": [
    "class tmp:\n",
    "    \"\"\"Here is the Class documentation\"\"\"\n",
    "    \n",
    "    def some_function(self,x):\n",
    "        \"\"\" Here is the function DOCs  \"\"\"\n",
    "        self.x = x"
   ]
  },
  {
   "cell_type": "code",
   "execution_count": 2,
   "id": "9f965237",
   "metadata": {},
   "outputs": [],
   "source": [
    "tmp.A = 1"
   ]
  },
  {
   "cell_type": "code",
   "execution_count": 3,
   "id": "c4f9f920",
   "metadata": {},
   "outputs": [],
   "source": [
    "x = tmp()"
   ]
  },
  {
   "cell_type": "code",
   "execution_count": 4,
   "id": "96ef699e",
   "metadata": {},
   "outputs": [
    {
     "name": "stdout",
     "output_type": "stream",
     "text": [
      "1\n"
     ]
    }
   ],
   "source": [
    "print(x.A)"
   ]
  },
  {
   "cell_type": "code",
   "execution_count": 5,
   "id": "b2b9aa19",
   "metadata": {},
   "outputs": [
    {
     "data": {
      "text/plain": [
       "True"
      ]
     },
     "execution_count": 5,
     "metadata": {},
     "output_type": "execute_result"
    }
   ],
   "source": [
    "hasattr(x, \"A\")"
   ]
  },
  {
   "cell_type": "code",
   "execution_count": 6,
   "id": "f659e95b",
   "metadata": {},
   "outputs": [
    {
     "data": {
      "text/plain": [
       "False"
      ]
     },
     "execution_count": 6,
     "metadata": {},
     "output_type": "execute_result"
    }
   ],
   "source": [
    "hasattr(x, \"B\")"
   ]
  },
  {
   "cell_type": "code",
   "execution_count": 7,
   "id": "f09f598c",
   "metadata": {},
   "outputs": [],
   "source": [
    "x.B = 1"
   ]
  },
  {
   "cell_type": "code",
   "execution_count": 8,
   "id": "bd5594b4",
   "metadata": {},
   "outputs": [
    {
     "data": {
      "text/plain": [
       "True"
      ]
     },
     "execution_count": 8,
     "metadata": {},
     "output_type": "execute_result"
    }
   ],
   "source": [
    "hasattr(x, \"B\")"
   ]
  },
  {
   "cell_type": "code",
   "execution_count": 9,
   "id": "bcbd992b",
   "metadata": {},
   "outputs": [
    {
     "data": {
      "text/plain": [
       "True"
      ]
     },
     "execution_count": 9,
     "metadata": {},
     "output_type": "execute_result"
    }
   ],
   "source": [
    "hasattr(tmp, \"A\")"
   ]
  },
  {
   "cell_type": "code",
   "execution_count": 10,
   "id": "5f9f179e",
   "metadata": {},
   "outputs": [
    {
     "data": {
      "text/plain": [
       "False"
      ]
     },
     "execution_count": 10,
     "metadata": {},
     "output_type": "execute_result"
    }
   ],
   "source": [
    "hasattr(tmp, \"B\")"
   ]
  },
  {
   "cell_type": "code",
   "execution_count": 2,
   "id": "507c8b25",
   "metadata": {},
   "outputs": [
    {
     "data": {
      "text/plain": [
       "'Here is the Class documentation'"
      ]
     },
     "execution_count": 2,
     "metadata": {},
     "output_type": "execute_result"
    }
   ],
   "source": [
    "tmp.__doc__"
   ]
  },
  {
   "cell_type": "code",
   "execution_count": 3,
   "id": "4d383072",
   "metadata": {},
   "outputs": [
    {
     "data": {
      "text/plain": [
       "' Here is the function DOCs  '"
      ]
     },
     "execution_count": 3,
     "metadata": {},
     "output_type": "execute_result"
    }
   ],
   "source": [
    "tmp.some_function.__doc__"
   ]
  },
  {
   "cell_type": "code",
   "execution_count": 4,
   "id": "71217ce7",
   "metadata": {},
   "outputs": [
    {
     "name": "stdout",
     "output_type": "stream",
     "text": [
      "Help on class tmp in module __main__:\n",
      "\n",
      "class tmp(builtins.object)\n",
      " |  Here is the Class documentation\n",
      " |  \n",
      " |  Methods defined here:\n",
      " |  \n",
      " |  some_function(self, x)\n",
      " |      Here is the function DOCs\n",
      " |  \n",
      " |  ----------------------------------------------------------------------\n",
      " |  Data descriptors defined here:\n",
      " |  \n",
      " |  __dict__\n",
      " |      dictionary for instance variables (if defined)\n",
      " |  \n",
      " |  __weakref__\n",
      " |      list of weak references to the object (if defined)\n",
      "\n"
     ]
    }
   ],
   "source": [
    "help(tmp)"
   ]
  },
  {
   "cell_type": "code",
   "execution_count": 5,
   "id": "e7f516c5",
   "metadata": {},
   "outputs": [
    {
     "name": "stdout",
     "output_type": "stream",
     "text": [
      "Help on function some_function in module __main__:\n",
      "\n",
      "some_function(self, x)\n",
      "    Here is the function DOCs\n",
      "\n"
     ]
    }
   ],
   "source": [
    "help(tmp.some_function)"
   ]
  },
  {
   "cell_type": "code",
   "execution_count": 6,
   "id": "e14c930d",
   "metadata": {},
   "outputs": [],
   "source": [
    "def my_normal_function(x):\n",
    "    \"\"\"\n",
    "    This is the doc for the normal_function\n",
    "    \"\"\"\n",
    "    \n",
    "    return x**2\n"
   ]
  },
  {
   "cell_type": "code",
   "execution_count": 7,
   "id": "a75d61dd",
   "metadata": {},
   "outputs": [
    {
     "data": {
      "text/plain": [
       "'\\n    This is the doc for the normal_function\\n    '"
      ]
     },
     "execution_count": 7,
     "metadata": {},
     "output_type": "execute_result"
    }
   ],
   "source": [
    "my_normal_function.__doc__"
   ]
  },
  {
   "cell_type": "code",
   "execution_count": 8,
   "id": "762c959a",
   "metadata": {},
   "outputs": [
    {
     "name": "stdout",
     "output_type": "stream",
     "text": [
      "Help on function my_normal_function in module __main__:\n",
      "\n",
      "my_normal_function(x)\n",
      "    This is the doc for the normal_function\n",
      "\n"
     ]
    }
   ],
   "source": [
    "help(my_normal_function)"
   ]
  },
  {
   "cell_type": "code",
   "execution_count": null,
   "id": "16bc0be6",
   "metadata": {},
   "outputs": [],
   "source": []
  }
 ],
 "metadata": {
  "kernelspec": {
   "display_name": "Python 3 (ipykernel)",
   "language": "python",
   "name": "python3"
  },
  "language_info": {
   "codemirror_mode": {
    "name": "ipython",
    "version": 3
   },
   "file_extension": ".py",
   "mimetype": "text/x-python",
   "name": "python",
   "nbconvert_exporter": "python",
   "pygments_lexer": "ipython3",
   "version": "3.7.12"
  }
 },
 "nbformat": 4,
 "nbformat_minor": 5
}
