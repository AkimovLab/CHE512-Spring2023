{
 "cells": [
  {
   "cell_type": "code",
   "execution_count": 11,
   "id": "e88c16e1",
   "metadata": {},
   "outputs": [],
   "source": [
    "import copy \n",
    "class vector:        \n",
    "    def __init__(self, x=0.0, y=0.0):\n",
    "        self.x = x \n",
    "        self.y = y    \n",
    "        \n",
    "    def copy(self, other):\n",
    "        self.x = other.x\n",
    "        self.y = other.y\n",
    "        \n",
    "    def __add__(self, other):\n",
    "        return vector(self.x + other.x, self.y + other.y)\n",
    "    \n",
    "    def show(self):\n",
    "        print(F\"My vector is x={self.x} y={self.y}\")"
   ]
  },
  {
   "cell_type": "code",
   "execution_count": 23,
   "id": "0c3e584e",
   "metadata": {},
   "outputs": [],
   "source": [
    "v1 = vector(1.0, -1.0)\n",
    "v2 = vector(2.0, 1.0)"
   ]
  },
  {
   "cell_type": "code",
   "execution_count": 24,
   "id": "16ac0a19",
   "metadata": {},
   "outputs": [
    {
     "name": "stdout",
     "output_type": "stream",
     "text": [
      "My vector is x=1.0 y=-1.0\n",
      "My vector is x=2.0 y=1.0\n"
     ]
    }
   ],
   "source": [
    "v1.show()\n",
    "v2.show()"
   ]
  },
  {
   "cell_type": "code",
   "execution_count": 25,
   "id": "741c8355",
   "metadata": {},
   "outputs": [],
   "source": [
    "v3 = v1 + v2"
   ]
  },
  {
   "cell_type": "code",
   "execution_count": 26,
   "id": "6bec1eeb",
   "metadata": {},
   "outputs": [
    {
     "name": "stdout",
     "output_type": "stream",
     "text": [
      "My vector is x=3.0 y=0.0\n"
     ]
    }
   ],
   "source": [
    "v3.show()"
   ]
  },
  {
   "cell_type": "code",
   "execution_count": 12,
   "id": "2f7618db",
   "metadata": {},
   "outputs": [],
   "source": [
    "A = vector(1, 1)\n",
    "B = vector()"
   ]
  },
  {
   "cell_type": "code",
   "execution_count": 5,
   "id": "c0d5b579",
   "metadata": {},
   "outputs": [
    {
     "name": "stdout",
     "output_type": "stream",
     "text": [
      "My vector is x=1 y=1\n",
      "My vector is x=1 y=1\n"
     ]
    }
   ],
   "source": [
    "A.show()\n",
    "B.show()"
   ]
  },
  {
   "cell_type": "code",
   "execution_count": 6,
   "id": "9bf1a2e0",
   "metadata": {},
   "outputs": [],
   "source": [
    "B.x = -1\n",
    "B.y = -2"
   ]
  },
  {
   "cell_type": "code",
   "execution_count": 7,
   "id": "0b7ea536",
   "metadata": {},
   "outputs": [
    {
     "name": "stdout",
     "output_type": "stream",
     "text": [
      "My vector is x=1 y=1\n",
      "My vector is x=-1 y=-2\n"
     ]
    }
   ],
   "source": [
    "A.show()\n",
    "B.show()"
   ]
  },
  {
   "cell_type": "code",
   "execution_count": null,
   "id": "d58cc054",
   "metadata": {},
   "outputs": [],
   "source": []
  }
 ],
 "metadata": {
  "kernelspec": {
   "display_name": "Python 3 (ipykernel)",
   "language": "python",
   "name": "python3"
  },
  "language_info": {
   "codemirror_mode": {
    "name": "ipython",
    "version": 3
   },
   "file_extension": ".py",
   "mimetype": "text/x-python",
   "name": "python",
   "nbconvert_exporter": "python",
   "pygments_lexer": "ipython3",
   "version": "3.7.12"
  }
 },
 "nbformat": 4,
 "nbformat_minor": 5
}
