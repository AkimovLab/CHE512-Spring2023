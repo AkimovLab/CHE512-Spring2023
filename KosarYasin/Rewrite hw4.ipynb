{
 "cells": [
  {
   "cell_type": "code",
   "execution_count": 1,
   "id": "98210466",
   "metadata": {},
   "outputs": [
    {
     "name": "stdout",
     "output_type": "stream",
     "text": [
      "1.4551915228366852e-11\n",
      "1.0000000009313226\n",
      "The Fermi energy of the system is: 3.89982\n"
     ]
    }
   ],
   "source": [
    "import numpy as np\n",
    "\n",
    "# root_finder function\n",
    "def root_finder(f_name, f_params, left, right, precision):\n",
    "    '''\n",
    "    Find the root of the function on the interval (left to right) with the specified precision.\n",
    "    f_name: The function whose root we are looking for.\n",
    "    f_params (dict): A dictionary of parameters to pass to the function f_name.\n",
    "    left (float): The left endpoint of the interval to search for a root.\n",
    "    right (float): The right endpoint of the interval to search for a root.\n",
    "    precision (float): The desired precision of the root.\n",
    "    Returns:\n",
    "    float: The root of the function f_name on the interval (left to right).'''\n",
    "\n",
    "    while abs(right - left) > precision:\n",
    "        midpoint = (left + right) / 2\n",
    "        if f_name(midpoint, f_params) * f_name(left, f_params) < 0:\n",
    "            right = midpoint\n",
    "        else:\n",
    "            left = midpoint\n",
    "    return (left + right) / 2\n",
    "\n",
    "\n",
    "## Examples for root_finder function\n",
    "def f1(x, params):\n",
    "    return params['a'] * x\n",
    "\n",
    "params = {'a': 1}\n",
    "root = root_finder(f1, params, -2.0, 1.0, 1.3e-10)\n",
    "print(root)\n",
    "\n",
    "\n",
    "def f2(x, params):\n",
    "    return x*x - 1.0\n",
    "\n",
    "root = root_finder(f2, {}, -0.10, 2.0, 1e-8)\n",
    "print(root)\n",
    "\n",
    "\n",
    "## fermi_energy function\n",
    "def fermi_energy(E_f, params):\n",
    "    '''\n",
    "    Find the Fermi energy for a system of energy levels and N electrons.\n",
    "    params (dict): A dictionary containing the following keys:\n",
    "                   - 'levels' (list): A list of energy levels.\n",
    "                   - 'N' (int): The number of electrons.\n",
    "                   - 'kT' (float): The thermal energy.\n",
    "    Returns:\n",
    "    float: The difference between the total number of electrons according to the Fermi-Dirac \n",
    "           distribution with Fermi energy E_f and the actual number of electrons.\n",
    "    '''\n",
    "    levels = params['levels']\n",
    "    N = params['N']\n",
    "    kT = params['kT']\n",
    "    tot_pop = 0.0\n",
    "    for level in levels:\n",
    "        pop_i = 1.0 + np.exp((level - E_f) / kT)\n",
    "        pop_i = 1.0 / pop_i\n",
    "        tot_pop += pop_i\n",
    "    return tot_pop - N\n",
    "\n",
    "\n",
    "# Example for calling both root_finder and fermi energy functions\n",
    "params = {'levels': [-0.9, -0.82, 0.63, -0.5, -0.31, -0.1, 0.05, 1.3, 2.5, 3.9, 3.9, 4.5], 'N': 10, 'kT': 0.025}\n",
    "precision = 1e-3\n",
    "\n",
    "root = root_finder(fermi_energy, paramshttps://ondemand.ccr.buffalo.edu/node/cpn-p27-16.compute.cbls.ccr.buffalo.edu/35062/notebooks/Rewrite%20hw4.ipynb#, params['levels'][0], params['levels'][-1], precision)\n",
    "print(f\"The Fermi energy of the system is: {root:.5f}\")\n"
   ]
  },
  {
   "cell_type": "code",
   "execution_count": null,
   "id": "3e1e3d93",
   "metadata": {},
   "outputs": [],
   "source": []
  }
 ],
 "metadata": {
  "kernelspec": {
   "display_name": "Python 3",
   "language": "python",
   "name": "python3"
  },
  "language_info": {
   "codemirror_mode": {
    "name": "ipython",
    "version": 3
   },
   "file_extension": ".py",
   "mimetype": "text/x-python",
   "name": "python",
   "nbconvert_exporter": "python",
   "pygments_lexer": "ipython3",
   "version": "3.8.8"
  }
 },
 "nbformat": 4,
 "nbformat_minor": 5
}
