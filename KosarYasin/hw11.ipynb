{
 "cells": [
  {
   "cell_type": "code",
   "execution_count": 1,
   "id": "f8df8e05",
   "metadata": {},
   "outputs": [],
   "source": [
    "def mapping(x0, r, num_iter):\n",
    "    \"\"\"\n",
    "    Compute the mapping function for a given value of r and initial condition x0.\n",
    "\n",
    "    Parameters\n",
    "    ----------\n",
    "    x0 : float\n",
    "        The initial condition for the chaotic map function.\n",
    "    r : float\n",
    "        The parameter for the chaotic map function.\n",
    "    num_iter : int\n",
    "        The number of iterations to perform.\n",
    "\n",
    "    Returns\n",
    "    -------\n",
    "    numpy.ndarray\n",
    "        An array containing the values of the chaotic map function at each iteration.\n",
    "\n",
    "    \"\"\"\n",
    "    x = [x0]\n",
    "    for i in range(num_iter - 1):\n",
    "        x_new = 4*r*(1-x[i])*x[i]\n",
    "        x.append(x_new)\n",
    "    return x\n"
   ]
  },
  {
   "cell_type": "code",
   "execution_count": 4,
   "id": "7a6248c6",
   "metadata": {},
   "outputs": [
    {
     "data": {
      "text/plain": [
       "Text(0, 0.5, 'x_n')"
      ]
     },
     "execution_count": 4,
     "metadata": {},
     "output_type": "execute_result"
    },
    {
     "data": {
      "image/png": "[encoded data removed]",
      "text/plain": [
       "<Figure size 432x288 with 1 Axes>"
      ]
     },
     "metadata": {
      "needs_background": "light"
     },
     "output_type": "display_data"
    }
   ],
   "source": [
    "import matplotlib.pyplot as plt\n",
    "\n",
    "x = mapping(0.6, 0.2, 100)\n",
    "\n",
    "plt.figure()\n",
    "plt.plot(x, marker='o')\n",
    "plt.xlabel('# iteration')\n",
    "plt.ylabel('x_n')"
   ]
  },
  {
   "cell_type": "code",
   "execution_count": 15,
   "id": "b9c625e3",
   "metadata": {},
   "outputs": [
    {
     "data": {
      "text/plain": [
       "Text(0, 0.5, 'iterated x')"
      ]
     },
     "execution_count": 15,
     "metadata": {},
     "output_type": "execute_result"
    },
    {
     "data": {
      "image/png": "[encoded data removed]",
      "text/plain": [
       "<Figure size 432x288 with 1 Axes>"
      ]
     },
     "metadata": {
      "needs_background": "light"
     },
     "output_type": "display_data"
    }
   ],
   "source": [
    "import numpy as np\n",
    "\n",
    "x0_values = np.array(range(1,100))*0.01\n",
    "r_values = np.array(range(1,100))*0.01\n",
    "results = []\n",
    "for x0 in x0_values:\n",
    "    for r in r_values:\n",
    "        x = mapping(x0, r, 100)\n",
    "        x_last = x[-1]\n",
    "        results.append([r,x_last])\n",
    "        \n",
    "results = np.array(results)\n",
    "plt.figure()\n",
    "plt.scatter(results[:,0], results[:,1])\n",
    "\n",
    "plt.xlabel('r')\n",
    "plt.ylabel('iterated x')"
   ]
  },
  {
   "cell_type": "code",
   "execution_count": null,
   "id": "dd922af8",
   "metadata": {},
   "outputs": [],
   "source": []
  }
 ],
 "metadata": {
  "kernelspec": {
   "display_name": "Python 3",
   "language": "python",
   "name": "python3"
  },
  "language_info": {
   "codemirror_mode": {
    "name": "ipython",
    "version": 3
   },
   "file_extension": ".py",
   "mimetype": "text/x-python",
   "name": "python",
   "nbconvert_exporter": "python",
   "pygments_lexer": "ipython3",
   "version": "3.8.8"
  }
 },
 "nbformat": 4,
 "nbformat_minor": 5
}
