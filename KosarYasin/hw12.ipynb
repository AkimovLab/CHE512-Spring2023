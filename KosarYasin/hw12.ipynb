{
  "nbformat": 4,
  "nbformat_minor": 0,
  "metadata": {
    "colab": {
      "provenance": []
    },
    "kernelspec": {
      "name": "python3",
      "display_name": "Python 3"
    },
    "language_info": {
      "name": "python"
    }
  },
  "cells": [
    {
      "cell_type": "code",
      "execution_count": 13,
      "metadata": {
        "id": "i3XtwjXsqhkt"
      },
      "outputs": [],
      "source": [
        "\"\"\"\n",
        "@author: Kosar Yasin\n",
        "\"\"\"\n",
        "import numpy as np\n",
        "\n",
        "def bubble_sort(xb):\n",
        "    \"\"\"\n",
        "    This function utilizes the bubble sort algorithm to sort a list of integers or floats.\n",
        "    Input:\n",
        "        x(list of floats or ints): the list of the numbers to be sorted  \n",
        "    Output:\n",
        "        list : the sorted list\n",
        "    \"\"\"\n",
        "    res = list(xb)\n",
        "    n = len(res)\n",
        "    \n",
        "    for i in range(n-1):\n",
        "        swapped = False\n",
        "        for j in range(n-1-i):\n",
        "            if res[j] > res[j+1]:\n",
        "                res[j], res[j+1] = res[j+1], res[j]\n",
        "                swapped = True\n",
        "               #print(f'Outer loop iteration {i+1}, Inner loop iteration {j+1}: {res}')\n",
        "        \n",
        "        # If we do not have any swap in the inner loop, the list is sorted completely.\n",
        "        if not swapped:\n",
        "            break\n",
        "    \n",
        "    return res\n",
        "\n",
        "\n",
        "def merge_sort(xm):\n",
        "    \"\"\"\n",
        "    This function utilizes the merge sort algorithm to sort a list of integers or floats.\n",
        "    Input:\n",
        "        x(list of floats or ints): the list of the numbers to be sorted\n",
        "    Output:\n",
        "        list : the sorted list\n",
        "    \"\"\"\n",
        "    if len(xm) <= 1:\n",
        "        return xm\n",
        "\n",
        "    mid = len(xm) // 2\n",
        "    left_half = xm[:mid]\n",
        "    right_half = xm[mid:]\n",
        "\n",
        "    left_half = merge_sort(left_half)\n",
        "    right_half = merge_sort(right_half)\n",
        "\n",
        "    return merge(left_half, right_half)\n",
        "\n",
        "\n",
        "def merge(left, right):\n",
        "    result = []\n",
        "    left_index = 0\n",
        "    right_index = 0\n",
        "\n",
        "    while left_index < len(left) and right_index < len(right):\n",
        "        if left[left_index] < right[right_index]:\n",
        "            result.append(left[left_index])\n",
        "            left_index += 1\n",
        "        else:\n",
        "            result.append(right[right_index])\n",
        "            right_index += 1\n",
        "\n",
        "    if left_index < len(left):\n",
        "        result.extend(left[left_index:])\n",
        "    if right_index < len(right):\n",
        "        result.extend(right[right_index:])\n",
        "\n",
        "    return result\n",
        "\n",
        "\n",
        "\n",
        "test1 = np.random.randint(0, 1000, 5)\n",
        "test2 = np.random.randint(0, 1000, 10)\n",
        "test3 = np.random.randint(0, 1000, 20)\n",
        "test4 = np.random.randint(0, 1000, 40)\n",
        "test5 = np.random.randint(0, 1000, 80)\n",
        "test6 = np.random.randint(0, 1000, 160)\n",
        "test7 = np.random.randint(0, 1000, 320)"
      ]
    },
    {
      "cell_type": "code",
      "source": [
        "%%timeit\n",
        "bubble_sort(test1)"
      ],
      "metadata": {
        "colab": {
          "base_uri": "https://localhost:8080/"
        },
        "id": "8xMokpqzqrrI",
        "outputId": "71ce67bf-fca1-4aa5-82fb-cffce9570a39"
      },
      "execution_count": 14,
      "outputs": [
        {
          "output_type": "stream",
          "name": "stdout",
          "text": [
            "3.27 µs ± 102 ns per loop (mean ± std. dev. of 7 runs, 100000 loops each)\n"
          ]
        }
      ]
    },
    {
      "cell_type": "code",
      "source": [
        "%%timeit\n",
        "bubble_sort(test2)"
      ],
      "metadata": {
        "colab": {
          "base_uri": "https://localhost:8080/"
        },
        "id": "KtigtupjqwjO",
        "outputId": "df8d5711-fb97-4cac-c8a7-621e3292f7c2"
      },
      "execution_count": 15,
      "outputs": [
        {
          "output_type": "stream",
          "name": "stdout",
          "text": [
            "8.5 µs ± 109 ns per loop (mean ± std. dev. of 7 runs, 100000 loops each)\n"
          ]
        }
      ]
    },
    {
      "cell_type": "code",
      "source": [
        "%%timeit\n",
        "bubble_sort(test3)"
      ],
      "metadata": {
        "colab": {
          "base_uri": "https://localhost:8080/"
        },
        "id": "zO42GqKmrKzx",
        "outputId": "8348ac6e-a573-4e5c-dd70-c62ebb3ce560"
      },
      "execution_count": 16,
      "outputs": [
        {
          "output_type": "stream",
          "name": "stdout",
          "text": [
            "49.1 µs ± 9.9 µs per loop (mean ± std. dev. of 7 runs, 10000 loops each)\n"
          ]
        }
      ]
    },
    {
      "cell_type": "code",
      "source": [
        "%%timeit\n",
        "bubble_sort(test4)"
      ],
      "metadata": {
        "colab": {
          "base_uri": "https://localhost:8080/"
        },
        "id": "b2iLjQrkrNm8",
        "outputId": "888cc94d-b421-488c-d540-dc58b3bb0ff2"
      },
      "execution_count": 17,
      "outputs": [
        {
          "output_type": "stream",
          "name": "stdout",
          "text": [
            "124 µs ± 6.08 µs per loop (mean ± std. dev. of 7 runs, 10000 loops each)\n"
          ]
        }
      ]
    },
    {
      "cell_type": "code",
      "source": [
        "%%timeit\n",
        "bubble_sort(test5)"
      ],
      "metadata": {
        "colab": {
          "base_uri": "https://localhost:8080/"
        },
        "id": "CyckA0kIrWpc",
        "outputId": "7f6b69dc-b676-4b49-a46a-2ec00bb842db"
      },
      "execution_count": 18,
      "outputs": [
        {
          "output_type": "stream",
          "name": "stdout",
          "text": [
            "599 µs ± 207 µs per loop (mean ± std. dev. of 7 runs, 1000 loops each)\n"
          ]
        }
      ]
    },
    {
      "cell_type": "code",
      "source": [
        "%%timeit\n",
        "bubble_sort(test6)"
      ],
      "metadata": {
        "colab": {
          "base_uri": "https://localhost:8080/"
        },
        "id": "L9LTj9RDrYYU",
        "outputId": "62df9cb3-d18c-4e76-9830-897373c12b97"
      },
      "execution_count": 19,
      "outputs": [
        {
          "output_type": "stream",
          "name": "stdout",
          "text": [
            "2.09 ms ± 496 µs per loop (mean ± std. dev. of 7 runs, 1000 loops each)\n"
          ]
        }
      ]
    },
    {
      "cell_type": "code",
      "source": [
        "%%timeit\n",
        "bubble_sort(test7)"
      ],
      "metadata": {
        "colab": {
          "base_uri": "https://localhost:8080/"
        },
        "id": "rsepEFNKraw7",
        "outputId": "462f6065-e0bb-4e8c-dfc1-04ddf53bfefe"
      },
      "execution_count": 20,
      "outputs": [
        {
          "output_type": "stream",
          "name": "stdout",
          "text": [
            "9.7 ms ± 3.21 ms per loop (mean ± std. dev. of 7 runs, 100 loops each)\n"
          ]
        }
      ]
    },
    {
      "cell_type": "code",
      "source": [
        "%%timeit\n",
        "merge_sort(test1)"
      ],
      "metadata": {
        "id": "DN8LKXsDrcO9",
        "colab": {
          "base_uri": "https://localhost:8080/"
        },
        "outputId": "2084d13a-5bda-45be-b541-0d2a48863a9f"
      },
      "execution_count": 21,
      "outputs": [
        {
          "output_type": "stream",
          "name": "stdout",
          "text": [
            "8.88 µs ± 69.6 ns per loop (mean ± std. dev. of 7 runs, 100000 loops each)\n"
          ]
        }
      ]
    },
    {
      "cell_type": "code",
      "source": [
        "%%timeit\n",
        "merge_sort(test2)"
      ],
      "metadata": {
        "colab": {
          "base_uri": "https://localhost:8080/"
        },
        "id": "xzu6yaTFKHXW",
        "outputId": "b8cac946-193d-4c8e-e69a-1deef1b94e6b"
      },
      "execution_count": 22,
      "outputs": [
        {
          "output_type": "stream",
          "name": "stdout",
          "text": [
            "20.6 µs ± 861 ns per loop (mean ± std. dev. of 7 runs, 10000 loops each)\n"
          ]
        }
      ]
    },
    {
      "cell_type": "code",
      "source": [
        "%%timeit\n",
        "merge_sort(test3)"
      ],
      "metadata": {
        "colab": {
          "base_uri": "https://localhost:8080/"
        },
        "id": "iFhEnj3uKmxi",
        "outputId": "6bf88eff-7d59-41dd-aee8-66a92beec8a6"
      },
      "execution_count": 23,
      "outputs": [
        {
          "output_type": "stream",
          "name": "stdout",
          "text": [
            "64.4 µs ± 21.6 µs per loop (mean ± std. dev. of 7 runs, 10000 loops each)\n"
          ]
        }
      ]
    },
    {
      "cell_type": "code",
      "source": [
        "%%timeit\n",
        "merge_sort(test4)"
      ],
      "metadata": {
        "colab": {
          "base_uri": "https://localhost:8080/"
        },
        "id": "st0UbHUNKpIe",
        "outputId": "3d3215a5-a63e-400b-f826-f06e15a1ac6b"
      },
      "execution_count": 24,
      "outputs": [
        {
          "output_type": "stream",
          "name": "stdout",
          "text": [
            "127 µs ± 38.1 µs per loop (mean ± std. dev. of 7 runs, 10000 loops each)\n"
          ]
        }
      ]
    },
    {
      "cell_type": "code",
      "source": [
        "%%timeit\n",
        "merge_sort(test5)"
      ],
      "metadata": {
        "colab": {
          "base_uri": "https://localhost:8080/"
        },
        "id": "1vulqQmaKqdL",
        "outputId": "13adc9fc-16b3-4c3c-f38c-f2a340ef155d"
      },
      "execution_count": 25,
      "outputs": [
        {
          "output_type": "stream",
          "name": "stdout",
          "text": [
            "261 µs ± 31.5 µs per loop (mean ± std. dev. of 7 runs, 1000 loops each)\n"
          ]
        }
      ]
    },
    {
      "cell_type": "code",
      "source": [
        "%%timeit\n",
        "merge_sort(test6)"
      ],
      "metadata": {
        "colab": {
          "base_uri": "https://localhost:8080/"
        },
        "id": "W1dWq0Z_Ks0Y",
        "outputId": "6843c34b-3f6a-4298-e030-19ded9201ba3"
      },
      "execution_count": 26,
      "outputs": [
        {
          "output_type": "stream",
          "name": "stdout",
          "text": [
            "731 µs ± 223 µs per loop (mean ± std. dev. of 7 runs, 1000 loops each)\n"
          ]
        }
      ]
    },
    {
      "cell_type": "code",
      "source": [
        "%%timeit\n",
        "merge_sort(test7)"
      ],
      "metadata": {
        "colab": {
          "base_uri": "https://localhost:8080/"
        },
        "id": "cpxQ2UT0Kuew",
        "outputId": "42b69d7f-a82c-455c-c6b1-53a02f2fb14e"
      },
      "execution_count": 27,
      "outputs": [
        {
          "output_type": "stream",
          "name": "stdout",
          "text": [
            "1.32 ms ± 323 µs per loop (mean ± std. dev. of 7 runs, 1000 loops each)\n"
          ]
        }
      ]
    },
    {
      "cell_type": "code",
      "source": [
        "import matplotlib.pyplot as plt\n",
        "\n",
        "x = [5, 10, 20, 40, 80, 160, 320]\n",
        "y1 = [3.27, 8.5, 49.1, 124, 599, 2090, 9700]\n",
        "y2 = [8.88, 20.6, 64.4, 127, 261, 731, 1320]\n",
        "\n",
        "# Plot y1 and y2 against x\n",
        "plt.plot(x, y1, label='Bubble Sort', marker='o', linestyle='-')\n",
        "plt.plot(x, y2, label='Merge Sort', marker='o', linestyle='-')\n",
        "\n",
        "# Customize the plot\n",
        "plt.title('Time Comparison of Bubble Sort and Merge Sort Algorithms')\n",
        "plt.xlabel('Number of numbers in a list')\n",
        "plt.ylabel('Time (microseconds)')\n",
        "plt.legend()\n",
        "plt.yscale('log')\n",
        "\n",
        "# Display the plot\n",
        "plt.show()"
      ],
      "metadata": {
        "colab": {
          "base_uri": "https://localhost:8080/",
          "height": 472
        },
        "id": "oHU4IhF2M39H",
        "outputId": "2d1435c7-97e9-4e6f-ef0b-e57d3deb500f"
      },
      "execution_count": 34,
      "outputs": [
        {
          "output_type": "display_data",
          "data": {
            "text/plain": [
              "<Figure size 640x480 with 1 Axes>"
            ],
            "image/png": "[encoded data removed]"
          },
          "metadata": {}
        }
      ]
    }
  ]
}