{
  "metadata": {
    "language_info": {
      "codemirror_mode": {
        "name": "python",
        "version": 3
      },
      "file_extension": ".py",
      "mimetype": "text/x-python",
      "name": "python",
      "nbconvert_exporter": "python",
      "pygments_lexer": "ipython3",
      "version": "3.8"
    },
    "kernelspec": {
      "name": "python",
      "display_name": "Python (Pyodide)",
      "language": "python"
    }
  },
  "nbformat_minor": 4,
  "nbformat": 4,
  "cells": [
    {
      "cell_type": "code",
      "source": "def taylor_exp(x, n):\n    \"\"\"\n    This function should compute the Taylor series of exponential\\approx e^x = 1 + x + x^2/2! + x^3/3! + x^4/4! + ...\n    \"\"\"\n    taylor = 0.0\n    for i in range(n):\n        taylor+=x**i/math.factorial(i)\n    return taylor\n    \nprint(taylor_exp(3, 9))",
      "metadata": {
        "trusted": true
      },
      "execution_count": 42,
      "outputs": [
        {
          "name": "stdout",
          "text": "20.009151785714284\n",
          "output_type": "stream"
        }
      ]
    }
  ]
}